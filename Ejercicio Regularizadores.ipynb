{
  "nbformat": 4,
  "nbformat_minor": 0,
  "metadata": {
    "kernelspec": {
      "display_name": "Python 3",
      "language": "python",
      "name": "python3"
    },
    "language_info": {
      "codemirror_mode": {
        "name": "ipython",
        "version": 3
      },
      "file_extension": ".py",
      "mimetype": "text/x-python",
      "name": "python",
      "nbconvert_exporter": "python",
      "pygments_lexer": "ipython3",
      "version": "3.8.5"
    },
    "colab": {
      "name": "2_1_Un_primer_vistazo_a_una_Red_Neuronal.ipynb",
      "provenance": [],
      "include_colab_link": true
    },
    "accelerator": "GPU",
    "gpuClass": "standard"
  },
  "cells": [
    {
      "cell_type": "markdown",
      "metadata": {
        "id": "view-in-github",
        "colab_type": "text"
      },
      "source": [
        "<a href=\"https://colab.research.google.com/github/GabrielFurnielesGarcia/deeplearning/blob/main/Ejercicio%20Regularizadores.ipynb\" target=\"_parent\"><img src=\"https://colab.research.google.com/assets/colab-badge.svg\" alt=\"Open In Colab\"/></a>"
      ]
    },
    {
      "cell_type": "markdown",
      "metadata": {
        "id": "Ejg7Msp7rbkk"
      },
      "source": [
        "# Ejercicio con regularizadores"
      ]
    },
    {
      "cell_type": "code",
      "source": [
        "%tensorflow_version 2.x\n",
        "import tensorflow as tf\n",
        "from tensorflow import keras\n",
        "print(tf.keras.__version__)\n",
        "print(\"GPU Available:\", tf.config.list_physical_devices('GPU'))\n",
        "print(tf.__version__)\n",
        "from keras.datasets import mnist\n",
        "from keras import models\n",
        "from keras import layers\n",
        "import numpy as np\n",
        "import matplotlib.pyplot as plt\n",
        "from keras import regularizers"
      ],
      "metadata": {
        "id": "BSivef1i532C",
        "outputId": "b7bd41e7-654f-4410-cb6c-3badcb24cf9e",
        "colab": {
          "base_uri": "https://localhost:8080/"
        }
      },
      "execution_count": 1,
      "outputs": [
        {
          "output_type": "stream",
          "name": "stdout",
          "text": [
            "Colab only includes TensorFlow 2.x; %tensorflow_version has no effect.\n",
            "2.9.0\n",
            "GPU Available: [PhysicalDevice(name='/physical_device:GPU:0', device_type='GPU')]\n",
            "2.9.2\n"
          ]
        }
      ]
    },
    {
      "cell_type": "code",
      "source": [
        "(train_images, train_labels), (test_images, test_labels) = mnist.load_data() # Descarga los datos de MNIST"
      ],
      "metadata": {
        "id": "3t3R6gU9-wUy"
      },
      "execution_count": 2,
      "outputs": []
    },
    {
      "cell_type": "code",
      "source": [
        "# Prepara con reshape y normaliza las imágenes tanto de entrenamiento como de test\n",
        "train_images = train_images.reshape((-1, 28*28))\n",
        "test_images = test_images.reshape((-1, 28*28))\n",
        "\n",
        "train_images = train_images.astype('float32') / 255.0\n",
        "test_images = test_images.astype('float32') / 255.0\n",
        "\n",
        "# Comprobamos que las transformaciones se han realizado correctamente\n",
        "print(train_images.shape, max(train_images[0]), min(train_images[0]))"
      ],
      "metadata": {
        "id": "H6n5NeSz0U1d",
        "outputId": "587244d5-301c-4f81-916e-5b9bdd21bae2",
        "colab": {
          "base_uri": "https://localhost:8080/"
        }
      },
      "execution_count": 3,
      "outputs": [
        {
          "output_type": "stream",
          "name": "stdout",
          "text": [
            "(60000, 784) 1.0 0.0\n"
          ]
        }
      ]
    },
    {
      "cell_type": "code",
      "source": [
        "# Crear un subconjunto de imágenes de entrenamiento que llamaré\n",
        "# validation_images, para hacer las validaciones, con las 10000 últimas imágenes \n",
        "# del set de datos de entrenamiento (train_images) (obviamente, lo mismo con las\n",
        "# etiquetas correspondientes -> validation_labels). Deja preparadas las 50K \n",
        "# primeras imágenes y etiquetas para entrenamiento (train_images y train_labels)\n",
        "split = len(train_images) - 10000\n",
        "\n",
        "validation_images = train_images[split:]\n",
        "validation_labels = train_labels[split:]\n",
        "\n",
        "train_images = train_images[:split]\n",
        "train_labels = train_labels[:split]\n",
        "\n",
        "print(split, len(train_images), len(validation_images))"
      ],
      "metadata": {
        "id": "NKoZGyap0XAj",
        "outputId": "02bdad83-0556-41ce-d54b-2a491ed37112",
        "colab": {
          "base_uri": "https://localhost:8080/"
        }
      },
      "execution_count": 4,
      "outputs": [
        {
          "output_type": "stream",
          "name": "stdout",
          "text": [
            "50000 50000 10000\n"
          ]
        }
      ]
    },
    {
      "cell_type": "code",
      "source": [
        "def crea_modelo(regularizador):\n",
        "  # Define una función que recibe un número del 0 al 4 que creará:\n",
        "  # un modelo secuencial con una capa de entrada densa de 512 neuronas\n",
        "  # con activación relu y la capa de salida que le corresponda según el problema\n",
        "  # Ahora, en función del número del regularizador:\n",
        "  # Si es 0, no mete ningún regularizador\n",
        "  # Si es 1, mete un regularizador de tipo l1 y valor 0.001\n",
        "  # Si es 2, mete un regularizador de tipo l2 y valor 0.001\n",
        "  # Si es 3, mete un regularizador de tipo l1_l2 y valor 0.001 para ambos\n",
        "  # Si es 4, mete un Dropout del 50% después de la primera capa densa\n",
        "  # Si es distinto que estos valores, escribe el error y retorna\n",
        "  # Al final, esta función pinta el summary del modelo y retorna el modelo creado\n",
        "\n",
        "  model = keras.Sequential()\n",
        "\n",
        "  if regularizador == 0:\n",
        "    model.add(keras.layers.Dense(512, activation = 'relu', input_shape = (28*28,)))\n",
        "  elif regularizador == 1:\n",
        "    model.add(keras.layers.Dense(512,\n",
        "                                 activation = 'relu', \n",
        "                                 kernel_regularizer = keras.regularizers.l1(0.001), \n",
        "                                 input_shape = (28*28,)))\n",
        "  elif regularizador == 2:\n",
        "    model.add(keras.layers.Dense(512,\n",
        "                                 activation = 'relu', \n",
        "                                 kernel_regularizer = keras.regularizers.l2(0.001), \n",
        "                                 input_shape = (28*28,)))\n",
        "  elif regularizador == 3:\n",
        "    model.add(keras.layers.Dense(512,\n",
        "                                 activation = 'relu', \n",
        "                                 kernel_regularizer = keras.regularizers.l1_l2(0.001, 0.001), \n",
        "                                 input_shape = (28*28,)))\n",
        "  elif regularizador == 4:\n",
        "    model.add(keras.layers.Dense(512, activation = 'relu', input_shape = (28*28,)))\n",
        "    model.add(keras.layers.Dropout(0.5))\n",
        "  else:\n",
        "    print('Regularizador no valido')\n",
        "    return 0\n",
        "\n",
        "  model.add(keras.layers.Dense(10, activation = \"softmax\"))\n",
        "\n",
        "  print(model.summary())\n",
        "  return model"
      ],
      "metadata": {
        "id": "6JnVLVfsAfkh"
      },
      "execution_count": 30,
      "outputs": []
    },
    {
      "cell_type": "code",
      "source": [
        "def compila_modelo(modelo): \n",
        "  # Define una función que recibe un modelo, lo compila con un optimizador\n",
        "  # 'rmsprop', con una función de pérdida 'sparse_categorical_crossentropy' y\n",
        "  # una métrica de precisión. La función retorna el modelo\n",
        "  modelo.compile(optimizer='rmsprop',\n",
        "                 loss='sparse_categorical_crossentropy',\n",
        "                 metrics=['accuracy'])\n",
        "  return modelo"
      ],
      "metadata": {
        "id": "qKyJ8KOT0aFt"
      },
      "execution_count": 6,
      "outputs": []
    },
    {
      "cell_type": "code",
      "source": [
        "def entrena_modelo(modelo, batch_size = 128, epochs = 30):\n",
        "  # Define una función que entrena el modelo que se le pasa por parámetro,\n",
        "  # con las imágenes y etiquetas de entrenamiento, con 30 iteraciones y 128\n",
        "  # de tamaño de minilote y con el validation_data creado más arriba.\n",
        "  # Esta función devuelve un history\n",
        "  return modelo.fit(x=train_images, y=train_labels, batch_size=batch_size, epochs=epochs, validation_data= (validation_images, validation_labels))"
      ],
      "metadata": {
        "id": "_yQ7SpOt0cBp"
      },
      "execution_count": 13,
      "outputs": []
    },
    {
      "cell_type": "code",
      "source": [
        "def pinta_perdida_entrenamiento_validacion(historia):\n",
        "  history_dict = historia.history\n",
        "  acc = historia.history['accuracy']\n",
        "  val_acc = historia.history['val_accuracy']\n",
        "  loss = historia.history['loss']\n",
        "  val_loss = historia.history['val_loss']\n",
        "  epochs = range(1, len(acc) + 1)\n",
        "  # \"bo\" es para \"punto azun\"\n",
        "  plt.plot(epochs, loss, 'bo', label='Pérdida de Entrenamiento')\n",
        "  # \"b\" es para \"linea continua azul\"\n",
        "  plt.plot(epochs, val_loss, 'b', label='Pérdida de Validación')\n",
        "  plt.title('Pérdida de Entrenamiento y Validación')\n",
        "  plt.xlabel('Epochs')\n",
        "  plt.ylabel('Loss')\n",
        "  plt.legend()\n",
        "  plt.show()"
      ],
      "metadata": {
        "id": "bJrRNc4WwPN2"
      },
      "execution_count": 8,
      "outputs": []
    },
    {
      "cell_type": "code",
      "source": [
        "def pinta_precision_entrenamiento_validacion(historia):\n",
        "  history_dict = historia.history\n",
        "  acc = historia.history['accuracy']\n",
        "  val_acc = historia.history['val_accuracy']\n",
        "  loss = historia.history['loss']\n",
        "  val_loss = historia.history['val_loss']\n",
        "  plt.clf()   # Limpia la figura\n",
        "  acc_values = history_dict['accuracy']\n",
        "  val_acc_values = history_dict['val_accuracy']\n",
        "  epochs = range(1, len(acc) + 1)\n",
        "  plt.plot(epochs, acc, 'bo', label='Precisión de Entrenamiento')\n",
        "  plt.plot(epochs, val_acc, 'b', label='Precisión de Validación')\n",
        "  plt.title('Precisión de Entrenamiento y Valización')\n",
        "  plt.xlabel('Epochs')\n",
        "  plt.ylabel('Loss')\n",
        "  plt.legend()\n",
        "  plt.show()"
      ],
      "metadata": {
        "id": "Mafxp6D3wYQx"
      },
      "execution_count": 9,
      "outputs": []
    },
    {
      "cell_type": "markdown",
      "source": [
        "## Una vez definidas todas las funciones anteriores, ejecuta las siguientes llamadas a dichas funciones y deduce que está pasando y, para este contexto, que es lo que mejor está funcionando"
      ],
      "metadata": {
        "id": "6nnQYysYA3_T"
      }
    },
    {
      "cell_type": "markdown",
      "source": [
        "### Caso 0, sin regularizadores"
      ],
      "metadata": {
        "id": "OrGwDgaFBax4"
      }
    },
    {
      "cell_type": "code",
      "source": [
        "network0 = crea_modelo(0)"
      ],
      "metadata": {
        "id": "uXvhlXg79Zi9",
        "outputId": "64ec0d48-4bac-4c69-89ed-930af37dd1fd",
        "colab": {
          "base_uri": "https://localhost:8080/"
        }
      },
      "execution_count": 31,
      "outputs": [
        {
          "output_type": "stream",
          "name": "stdout",
          "text": [
            "Model: \"sequential_4\"\n",
            "_________________________________________________________________\n",
            " Layer (type)                Output Shape              Param #   \n",
            "=================================================================\n",
            " dense_4 (Dense)             (None, 512)               401920    \n",
            "                                                                 \n",
            " dense_5 (Dense)             (None, 10)                5130      \n",
            "                                                                 \n",
            "=================================================================\n",
            "Total params: 407,050\n",
            "Trainable params: 407,050\n",
            "Non-trainable params: 0\n",
            "_________________________________________________________________\n",
            "None\n"
          ]
        }
      ]
    },
    {
      "cell_type": "code",
      "source": [
        "network0 = compila_modelo(network0)"
      ],
      "metadata": {
        "id": "Ff0HC3NR9ez8"
      },
      "execution_count": 32,
      "outputs": []
    },
    {
      "cell_type": "code",
      "source": [
        "historia0 = entrena_modelo(network0)"
      ],
      "metadata": {
        "id": "x9zQDOlw9g6V",
        "outputId": "d07bd9c3-d561-4011-fe6e-adf0436360fa",
        "colab": {
          "base_uri": "https://localhost:8080/"
        }
      },
      "execution_count": 33,
      "outputs": [
        {
          "output_type": "stream",
          "name": "stdout",
          "text": [
            "Epoch 1/30\n",
            "391/391 [==============================] - 2s 4ms/step - loss: 0.2821 - accuracy: 0.9182 - val_loss: 0.1409 - val_accuracy: 0.9597\n",
            "Epoch 2/30\n",
            "391/391 [==============================] - 1s 4ms/step - loss: 0.1167 - accuracy: 0.9651 - val_loss: 0.1171 - val_accuracy: 0.9665\n",
            "Epoch 3/30\n",
            "391/391 [==============================] - 1s 4ms/step - loss: 0.0767 - accuracy: 0.9766 - val_loss: 0.0839 - val_accuracy: 0.9745\n",
            "Epoch 4/30\n",
            "391/391 [==============================] - 1s 3ms/step - loss: 0.0550 - accuracy: 0.9837 - val_loss: 0.0843 - val_accuracy: 0.9757\n",
            "Epoch 5/30\n",
            "391/391 [==============================] - 1s 3ms/step - loss: 0.0410 - accuracy: 0.9875 - val_loss: 0.0777 - val_accuracy: 0.9782\n",
            "Epoch 6/30\n",
            "391/391 [==============================] - 2s 4ms/step - loss: 0.0305 - accuracy: 0.9912 - val_loss: 0.0710 - val_accuracy: 0.9792\n",
            "Epoch 7/30\n",
            "391/391 [==============================] - 2s 4ms/step - loss: 0.0235 - accuracy: 0.9927 - val_loss: 0.0747 - val_accuracy: 0.9808\n",
            "Epoch 8/30\n",
            "391/391 [==============================] - 1s 3ms/step - loss: 0.0177 - accuracy: 0.9953 - val_loss: 0.0703 - val_accuracy: 0.9815\n",
            "Epoch 9/30\n",
            "391/391 [==============================] - 1s 4ms/step - loss: 0.0127 - accuracy: 0.9967 - val_loss: 0.0746 - val_accuracy: 0.9829\n",
            "Epoch 10/30\n",
            "391/391 [==============================] - 1s 4ms/step - loss: 0.0102 - accuracy: 0.9973 - val_loss: 0.0789 - val_accuracy: 0.9806\n",
            "Epoch 11/30\n",
            "391/391 [==============================] - 1s 4ms/step - loss: 0.0079 - accuracy: 0.9981 - val_loss: 0.0810 - val_accuracy: 0.9819\n",
            "Epoch 12/30\n",
            "391/391 [==============================] - 1s 4ms/step - loss: 0.0057 - accuracy: 0.9984 - val_loss: 0.0865 - val_accuracy: 0.9809\n",
            "Epoch 13/30\n",
            "391/391 [==============================] - 1s 4ms/step - loss: 0.0047 - accuracy: 0.9988 - val_loss: 0.0846 - val_accuracy: 0.9815\n",
            "Epoch 14/30\n",
            "391/391 [==============================] - 1s 4ms/step - loss: 0.0036 - accuracy: 0.9990 - val_loss: 0.0858 - val_accuracy: 0.9819\n",
            "Epoch 15/30\n",
            "391/391 [==============================] - 1s 3ms/step - loss: 0.0026 - accuracy: 0.9993 - val_loss: 0.1011 - val_accuracy: 0.9792\n",
            "Epoch 16/30\n",
            "391/391 [==============================] - 1s 4ms/step - loss: 0.0022 - accuracy: 0.9993 - val_loss: 0.0892 - val_accuracy: 0.9827\n",
            "Epoch 17/30\n",
            "391/391 [==============================] - 1s 3ms/step - loss: 0.0016 - accuracy: 0.9996 - val_loss: 0.0986 - val_accuracy: 0.9817\n",
            "Epoch 18/30\n",
            "391/391 [==============================] - 1s 3ms/step - loss: 0.0012 - accuracy: 0.9997 - val_loss: 0.1014 - val_accuracy: 0.9814\n",
            "Epoch 19/30\n",
            "391/391 [==============================] - 1s 3ms/step - loss: 9.4368e-04 - accuracy: 0.9998 - val_loss: 0.0993 - val_accuracy: 0.9830\n",
            "Epoch 20/30\n",
            "391/391 [==============================] - 1s 4ms/step - loss: 6.8391e-04 - accuracy: 0.9999 - val_loss: 0.0999 - val_accuracy: 0.9828\n",
            "Epoch 21/30\n",
            "391/391 [==============================] - 1s 4ms/step - loss: 6.4025e-04 - accuracy: 0.9998 - val_loss: 0.1138 - val_accuracy: 0.9816\n",
            "Epoch 22/30\n",
            "391/391 [==============================] - 1s 3ms/step - loss: 3.1934e-04 - accuracy: 0.9999 - val_loss: 0.1167 - val_accuracy: 0.9829\n",
            "Epoch 23/30\n",
            "391/391 [==============================] - 1s 4ms/step - loss: 3.9874e-04 - accuracy: 0.9999 - val_loss: 0.1124 - val_accuracy: 0.9828\n",
            "Epoch 24/30\n",
            "391/391 [==============================] - 1s 4ms/step - loss: 3.7940e-04 - accuracy: 0.9999 - val_loss: 0.1300 - val_accuracy: 0.9824\n",
            "Epoch 25/30\n",
            "391/391 [==============================] - 1s 4ms/step - loss: 1.5709e-04 - accuracy: 1.0000 - val_loss: 0.1217 - val_accuracy: 0.9816\n",
            "Epoch 26/30\n",
            "391/391 [==============================] - 1s 4ms/step - loss: 2.0004e-04 - accuracy: 0.9999 - val_loss: 0.1285 - val_accuracy: 0.9827\n",
            "Epoch 27/30\n",
            "391/391 [==============================] - 1s 3ms/step - loss: 1.6532e-04 - accuracy: 0.9999 - val_loss: 0.1266 - val_accuracy: 0.9821\n",
            "Epoch 28/30\n",
            "391/391 [==============================] - 1s 4ms/step - loss: 1.7801e-04 - accuracy: 0.9999 - val_loss: 0.1338 - val_accuracy: 0.9810\n",
            "Epoch 29/30\n",
            "391/391 [==============================] - 2s 4ms/step - loss: 7.2666e-05 - accuracy: 1.0000 - val_loss: 0.1345 - val_accuracy: 0.9817\n",
            "Epoch 30/30\n",
            "391/391 [==============================] - 2s 4ms/step - loss: 7.2374e-05 - accuracy: 1.0000 - val_loss: 0.1394 - val_accuracy: 0.9818\n"
          ]
        }
      ]
    },
    {
      "cell_type": "code",
      "source": [
        "pinta_perdida_entrenamiento_validacion(historia0)"
      ],
      "metadata": {
        "id": "OvhDZvS8-0mG",
        "outputId": "df28b8d2-953d-432d-ec20-2bf70c9d7628",
        "colab": {
          "base_uri": "https://localhost:8080/",
          "height": 295
        }
      },
      "execution_count": 34,
      "outputs": [
        {
          "output_type": "display_data",
          "data": {
            "text/plain": [
              "<Figure size 432x288 with 1 Axes>"
            ],
            "image/png": "[encoded data removed]"
          },
          "metadata": {
            "needs_background": "light"
          }
        }
      ]
    },
    {
      "cell_type": "code",
      "source": [
        "pinta_precision_entrenamiento_validacion(historia0)"
      ],
      "metadata": {
        "id": "UuiL2CCH_fGN",
        "outputId": "deb7cc80-a7af-47ec-9dea-fc3193dd29b4",
        "colab": {
          "base_uri": "https://localhost:8080/",
          "height": 295
        }
      },
      "execution_count": 35,
      "outputs": [
        {
          "output_type": "display_data",
          "data": {
            "text/plain": [
              "<Figure size 432x288 with 1 Axes>"
            ],
            "image/png": "[encoded data removed]"
          },
          "metadata": {
            "needs_background": "light"
          }
        }
      ]
    },
    {
      "cell_type": "markdown",
      "source": [
        "### Caso 1: Con regularizador l1"
      ],
      "metadata": {
        "id": "pw6iBGO5Bg8J"
      }
    },
    {
      "cell_type": "code",
      "source": [
        "network1 = crea_modelo(1)"
      ],
      "metadata": {
        "id": "D6JPtw5zCz-1",
        "outputId": "efd37b3b-274b-4d7c-9099-238f7367ce0c",
        "colab": {
          "base_uri": "https://localhost:8080/"
        }
      },
      "execution_count": 36,
      "outputs": [
        {
          "output_type": "stream",
          "name": "stdout",
          "text": [
            "Model: \"sequential_5\"\n",
            "_________________________________________________________________\n",
            " Layer (type)                Output Shape              Param #   \n",
            "=================================================================\n",
            " dense_6 (Dense)             (None, 512)               401920    \n",
            "                                                                 \n",
            " dense_7 (Dense)             (None, 10)                5130      \n",
            "                                                                 \n",
            "=================================================================\n",
            "Total params: 407,050\n",
            "Trainable params: 407,050\n",
            "Non-trainable params: 0\n",
            "_________________________________________________________________\n",
            "None\n"
          ]
        }
      ]
    },
    {
      "cell_type": "code",
      "source": [
        "network1 = compila_modelo(network1)"
      ],
      "metadata": {
        "id": "zL3Gp7wvFRq3"
      },
      "execution_count": 37,
      "outputs": []
    },
    {
      "cell_type": "code",
      "source": [
        "historia1 = entrena_modelo(network1)"
      ],
      "metadata": {
        "id": "G2FG1Z4xFW72",
        "outputId": "d658dc33-5e2a-4528-af23-a99d7395b3a6",
        "colab": {
          "base_uri": "https://localhost:8080/"
        }
      },
      "execution_count": 38,
      "outputs": [
        {
          "output_type": "stream",
          "name": "stdout",
          "text": [
            "Epoch 1/30\n",
            "391/391 [==============================] - 2s 4ms/step - loss: 2.1332 - accuracy: 0.8448 - val_loss: 1.0747 - val_accuracy: 0.8674\n",
            "Epoch 2/30\n",
            "391/391 [==============================] - 1s 3ms/step - loss: 0.9581 - accuracy: 0.8813 - val_loss: 0.8477 - val_accuracy: 0.9107\n",
            "Epoch 3/30\n",
            "391/391 [==============================] - 2s 4ms/step - loss: 0.8314 - accuracy: 0.9023 - val_loss: 0.7946 - val_accuracy: 0.9078\n",
            "Epoch 4/30\n",
            "391/391 [==============================] - 1s 3ms/step - loss: 0.7577 - accuracy: 0.9150 - val_loss: 0.7487 - val_accuracy: 0.9085\n",
            "Epoch 5/30\n",
            "391/391 [==============================] - 1s 3ms/step - loss: 0.7095 - accuracy: 0.9230 - val_loss: 0.6730 - val_accuracy: 0.9364\n",
            "Epoch 6/30\n",
            "391/391 [==============================] - 2s 4ms/step - loss: 0.6721 - accuracy: 0.9304 - val_loss: 0.6378 - val_accuracy: 0.9389\n",
            "Epoch 7/30\n",
            "391/391 [==============================] - 2s 6ms/step - loss: 0.6423 - accuracy: 0.9354 - val_loss: 0.6428 - val_accuracy: 0.9384\n",
            "Epoch 8/30\n",
            "391/391 [==============================] - 2s 4ms/step - loss: 0.6197 - accuracy: 0.9386 - val_loss: 0.6090 - val_accuracy: 0.9417\n",
            "Epoch 9/30\n",
            "391/391 [==============================] - 1s 3ms/step - loss: 0.6012 - accuracy: 0.9419 - val_loss: 0.5795 - val_accuracy: 0.9519\n",
            "Epoch 10/30\n",
            "391/391 [==============================] - 1s 3ms/step - loss: 0.5840 - accuracy: 0.9441 - val_loss: 0.5732 - val_accuracy: 0.9503\n",
            "Epoch 11/30\n",
            "391/391 [==============================] - 1s 4ms/step - loss: 0.5697 - accuracy: 0.9476 - val_loss: 0.5691 - val_accuracy: 0.9458\n",
            "Epoch 12/30\n",
            "391/391 [==============================] - 1s 3ms/step - loss: 0.5600 - accuracy: 0.9491 - val_loss: 0.5535 - val_accuracy: 0.9553\n",
            "Epoch 13/30\n",
            "391/391 [==============================] - 1s 3ms/step - loss: 0.5504 - accuracy: 0.9495 - val_loss: 0.5481 - val_accuracy: 0.9529\n",
            "Epoch 14/30\n",
            "391/391 [==============================] - 1s 4ms/step - loss: 0.5435 - accuracy: 0.9505 - val_loss: 0.5897 - val_accuracy: 0.9398\n",
            "Epoch 15/30\n",
            "391/391 [==============================] - 1s 3ms/step - loss: 0.5377 - accuracy: 0.9515 - val_loss: 0.5172 - val_accuracy: 0.9563\n",
            "Epoch 16/30\n",
            "391/391 [==============================] - 1s 3ms/step - loss: 0.5311 - accuracy: 0.9525 - val_loss: 0.5355 - val_accuracy: 0.9511\n",
            "Epoch 17/30\n",
            "391/391 [==============================] - 1s 3ms/step - loss: 0.5229 - accuracy: 0.9538 - val_loss: 0.5235 - val_accuracy: 0.9535\n",
            "Epoch 18/30\n",
            "391/391 [==============================] - 1s 3ms/step - loss: 0.5184 - accuracy: 0.9543 - val_loss: 0.5124 - val_accuracy: 0.9579\n",
            "Epoch 19/30\n",
            "391/391 [==============================] - 1s 3ms/step - loss: 0.5136 - accuracy: 0.9554 - val_loss: 0.5376 - val_accuracy: 0.9460\n",
            "Epoch 20/30\n",
            "391/391 [==============================] - 1s 4ms/step - loss: 0.5093 - accuracy: 0.9554 - val_loss: 0.5066 - val_accuracy: 0.9564\n",
            "Epoch 21/30\n",
            "391/391 [==============================] - 1s 3ms/step - loss: 0.5060 - accuracy: 0.9566 - val_loss: 0.4942 - val_accuracy: 0.9597\n",
            "Epoch 22/30\n",
            "391/391 [==============================] - 1s 3ms/step - loss: 0.5010 - accuracy: 0.9560 - val_loss: 0.5044 - val_accuracy: 0.9570\n",
            "Epoch 23/30\n",
            "391/391 [==============================] - 1s 4ms/step - loss: 0.4983 - accuracy: 0.9570 - val_loss: 0.4997 - val_accuracy: 0.9577\n",
            "Epoch 24/30\n",
            "391/391 [==============================] - 1s 4ms/step - loss: 0.4958 - accuracy: 0.9565 - val_loss: 0.4811 - val_accuracy: 0.9607\n",
            "Epoch 25/30\n",
            "391/391 [==============================] - 1s 4ms/step - loss: 0.4925 - accuracy: 0.9579 - val_loss: 0.5276 - val_accuracy: 0.9496\n",
            "Epoch 26/30\n",
            "391/391 [==============================] - 1s 4ms/step - loss: 0.4895 - accuracy: 0.9583 - val_loss: 0.4737 - val_accuracy: 0.9645\n",
            "Epoch 27/30\n",
            "391/391 [==============================] - 2s 4ms/step - loss: 0.4876 - accuracy: 0.9593 - val_loss: 0.5593 - val_accuracy: 0.9379\n",
            "Epoch 28/30\n",
            "391/391 [==============================] - 1s 3ms/step - loss: 0.4854 - accuracy: 0.9592 - val_loss: 0.5190 - val_accuracy: 0.9526\n",
            "Epoch 29/30\n",
            "391/391 [==============================] - 2s 4ms/step - loss: 0.4824 - accuracy: 0.9597 - val_loss: 0.4791 - val_accuracy: 0.9626\n",
            "Epoch 30/30\n",
            "391/391 [==============================] - 2s 4ms/step - loss: 0.4804 - accuracy: 0.9599 - val_loss: 0.4826 - val_accuracy: 0.9578\n"
          ]
        }
      ]
    },
    {
      "cell_type": "code",
      "source": [
        "pinta_perdida_entrenamiento_validacion(historia1)"
      ],
      "metadata": {
        "id": "Vyv3yFtiFitw",
        "outputId": "50971c5f-b87b-4bea-8373-ed751c7f0b23",
        "colab": {
          "base_uri": "https://localhost:8080/",
          "height": 295
        }
      },
      "execution_count": 39,
      "outputs": [
        {
          "output_type": "display_data",
          "data": {
            "text/plain": [
              "<Figure size 432x288 with 1 Axes>"
            ],
            "image/png": "[encoded data removed]"
          },
          "metadata": {
            "needs_background": "light"
          }
        }
      ]
    },
    {
      "cell_type": "code",
      "source": [
        "pinta_precision_entrenamiento_validacion(historia1)"
      ],
      "metadata": {
        "id": "pVUerJsqFo7K",
        "outputId": "904598af-664c-4137-a1b1-a86a9ebc44e7",
        "colab": {
          "base_uri": "https://localhost:8080/",
          "height": 295
        }
      },
      "execution_count": 40,
      "outputs": [
        {
          "output_type": "display_data",
          "data": {
            "text/plain": [
              "<Figure size 432x288 with 1 Axes>"
            ],
            "image/png": "[encoded data removed]"
          },
          "metadata": {
            "needs_background": "light"
          }
        }
      ]
    },
    {
      "cell_type": "markdown",
      "source": [
        "### Caso 2: Con regularizador l2"
      ],
      "metadata": {
        "id": "hklwKNlMBzya"
      }
    },
    {
      "cell_type": "code",
      "source": [
        "network2 = crea_modelo(2)"
      ],
      "metadata": {
        "id": "tjIs0FziG5Ja",
        "outputId": "ea98e960-9f3a-4ec9-9026-2bf81a5acde5",
        "colab": {
          "base_uri": "https://localhost:8080/"
        }
      },
      "execution_count": 41,
      "outputs": [
        {
          "output_type": "stream",
          "name": "stdout",
          "text": [
            "Model: \"sequential_6\"\n",
            "_________________________________________________________________\n",
            " Layer (type)                Output Shape              Param #   \n",
            "=================================================================\n",
            " dense_8 (Dense)             (None, 512)               401920    \n",
            "                                                                 \n",
            " dense_9 (Dense)             (None, 10)                5130      \n",
            "                                                                 \n",
            "=================================================================\n",
            "Total params: 407,050\n",
            "Trainable params: 407,050\n",
            "Non-trainable params: 0\n",
            "_________________________________________________________________\n",
            "None\n"
          ]
        }
      ]
    },
    {
      "cell_type": "code",
      "source": [
        "network2 = compila_modelo(network2)"
      ],
      "metadata": {
        "id": "UCdA0K_qyTUq"
      },
      "execution_count": 42,
      "outputs": []
    },
    {
      "cell_type": "code",
      "source": [
        "historia2 = entrena_modelo(network2)"
      ],
      "metadata": {
        "id": "WSuomx5oybpu",
        "outputId": "48f34f7b-4407-4203-f2ab-af7c58168405",
        "colab": {
          "base_uri": "https://localhost:8080/"
        }
      },
      "execution_count": 43,
      "outputs": [
        {
          "output_type": "stream",
          "name": "stdout",
          "text": [
            "Epoch 1/30\n",
            "391/391 [==============================] - 2s 4ms/step - loss: 0.5252 - accuracy: 0.9115 - val_loss: 0.3092 - val_accuracy: 0.9517\n",
            "Epoch 2/30\n",
            "391/391 [==============================] - 1s 4ms/step - loss: 0.2632 - accuracy: 0.9546 - val_loss: 0.2341 - val_accuracy: 0.9572\n",
            "Epoch 3/30\n",
            "391/391 [==============================] - 1s 3ms/step - loss: 0.2089 - accuracy: 0.9636 - val_loss: 0.2041 - val_accuracy: 0.9631\n",
            "Epoch 4/30\n",
            "391/391 [==============================] - 1s 3ms/step - loss: 0.1863 - accuracy: 0.9671 - val_loss: 0.1741 - val_accuracy: 0.9708\n",
            "Epoch 5/30\n",
            "391/391 [==============================] - 1s 3ms/step - loss: 0.1732 - accuracy: 0.9694 - val_loss: 0.1903 - val_accuracy: 0.9653\n",
            "Epoch 6/30\n",
            "391/391 [==============================] - 1s 3ms/step - loss: 0.1643 - accuracy: 0.9713 - val_loss: 0.1851 - val_accuracy: 0.9614\n",
            "Epoch 7/30\n",
            "391/391 [==============================] - 1s 3ms/step - loss: 0.1570 - accuracy: 0.9727 - val_loss: 0.1735 - val_accuracy: 0.9696\n",
            "Epoch 8/30\n",
            "391/391 [==============================] - 1s 4ms/step - loss: 0.1516 - accuracy: 0.9741 - val_loss: 0.1693 - val_accuracy: 0.9695\n",
            "Epoch 9/30\n",
            "391/391 [==============================] - 1s 4ms/step - loss: 0.1468 - accuracy: 0.9748 - val_loss: 0.1642 - val_accuracy: 0.9684\n",
            "Epoch 10/30\n",
            "391/391 [==============================] - 1s 3ms/step - loss: 0.1433 - accuracy: 0.9753 - val_loss: 0.1570 - val_accuracy: 0.9713\n",
            "Epoch 11/30\n",
            "391/391 [==============================] - 1s 3ms/step - loss: 0.1398 - accuracy: 0.9761 - val_loss: 0.2739 - val_accuracy: 0.9346\n",
            "Epoch 12/30\n",
            "391/391 [==============================] - 1s 3ms/step - loss: 0.1363 - accuracy: 0.9769 - val_loss: 0.1539 - val_accuracy: 0.9724\n",
            "Epoch 13/30\n",
            "391/391 [==============================] - 1s 4ms/step - loss: 0.1342 - accuracy: 0.9776 - val_loss: 0.1527 - val_accuracy: 0.9718\n",
            "Epoch 14/30\n",
            "391/391 [==============================] - 2s 4ms/step - loss: 0.1318 - accuracy: 0.9780 - val_loss: 0.1397 - val_accuracy: 0.9749\n",
            "Epoch 15/30\n",
            "391/391 [==============================] - 2s 4ms/step - loss: 0.1301 - accuracy: 0.9787 - val_loss: 0.1477 - val_accuracy: 0.9738\n",
            "Epoch 16/30\n",
            "391/391 [==============================] - 1s 4ms/step - loss: 0.1275 - accuracy: 0.9787 - val_loss: 0.1485 - val_accuracy: 0.9731\n",
            "Epoch 17/30\n",
            "391/391 [==============================] - 2s 5ms/step - loss: 0.1263 - accuracy: 0.9784 - val_loss: 0.1518 - val_accuracy: 0.9709\n",
            "Epoch 18/30\n",
            "391/391 [==============================] - 2s 4ms/step - loss: 0.1242 - accuracy: 0.9793 - val_loss: 0.1344 - val_accuracy: 0.9774\n",
            "Epoch 19/30\n",
            "391/391 [==============================] - 2s 4ms/step - loss: 0.1218 - accuracy: 0.9798 - val_loss: 0.1415 - val_accuracy: 0.9745\n",
            "Epoch 20/30\n",
            "391/391 [==============================] - 1s 3ms/step - loss: 0.1205 - accuracy: 0.9800 - val_loss: 0.1365 - val_accuracy: 0.9752\n",
            "Epoch 21/30\n",
            "391/391 [==============================] - 1s 4ms/step - loss: 0.1195 - accuracy: 0.9799 - val_loss: 0.1614 - val_accuracy: 0.9676\n",
            "Epoch 22/30\n",
            "391/391 [==============================] - 2s 4ms/step - loss: 0.1172 - accuracy: 0.9802 - val_loss: 0.1978 - val_accuracy: 0.9569\n",
            "Epoch 23/30\n",
            "391/391 [==============================] - 1s 3ms/step - loss: 0.1150 - accuracy: 0.9812 - val_loss: 0.1537 - val_accuracy: 0.9684\n",
            "Epoch 24/30\n",
            "391/391 [==============================] - 1s 3ms/step - loss: 0.1146 - accuracy: 0.9813 - val_loss: 0.1290 - val_accuracy: 0.9779\n",
            "Epoch 25/30\n",
            "391/391 [==============================] - 2s 4ms/step - loss: 0.1129 - accuracy: 0.9823 - val_loss: 0.1437 - val_accuracy: 0.9717\n",
            "Epoch 26/30\n",
            "391/391 [==============================] - 1s 4ms/step - loss: 0.1115 - accuracy: 0.9811 - val_loss: 0.1478 - val_accuracy: 0.9741\n",
            "Epoch 27/30\n",
            "391/391 [==============================] - 1s 3ms/step - loss: 0.1117 - accuracy: 0.9810 - val_loss: 0.1349 - val_accuracy: 0.9766\n",
            "Epoch 28/30\n",
            "391/391 [==============================] - 1s 3ms/step - loss: 0.1092 - accuracy: 0.9827 - val_loss: 0.1297 - val_accuracy: 0.9763\n",
            "Epoch 29/30\n",
            "391/391 [==============================] - 1s 3ms/step - loss: 0.1092 - accuracy: 0.9821 - val_loss: 0.1422 - val_accuracy: 0.9738\n",
            "Epoch 30/30\n",
            "391/391 [==============================] - 2s 4ms/step - loss: 0.1078 - accuracy: 0.9824 - val_loss: 0.1820 - val_accuracy: 0.9580\n"
          ]
        }
      ]
    },
    {
      "cell_type": "code",
      "source": [
        "pinta_perdida_entrenamiento_validacion(historia2)"
      ],
      "metadata": {
        "id": "aXXzm8tpyj6X",
        "outputId": "b2531044-c9a0-4e07-f550-abe2393d8423",
        "colab": {
          "base_uri": "https://localhost:8080/",
          "height": 295
        }
      },
      "execution_count": 44,
      "outputs": [
        {
          "output_type": "display_data",
          "data": {
            "text/plain": [
              "<Figure size 432x288 with 1 Axes>"
            ],
            "image/png": "[encoded data removed]"
          },
          "metadata": {
            "needs_background": "light"
          }
        }
      ]
    },
    {
      "cell_type": "code",
      "source": [
        "pinta_precision_entrenamiento_validacion(historia2)"
      ],
      "metadata": {
        "id": "CLTsg5LTypH9",
        "outputId": "4065206d-86cb-421f-8a44-4970b34ef563",
        "colab": {
          "base_uri": "https://localhost:8080/",
          "height": 295
        }
      },
      "execution_count": 45,
      "outputs": [
        {
          "output_type": "display_data",
          "data": {
            "text/plain": [
              "<Figure size 432x288 with 1 Axes>"
            ],
            "image/png": "[encoded data removed]"
          },
          "metadata": {
            "needs_background": "light"
          }
        }
      ]
    },
    {
      "cell_type": "markdown",
      "source": [
        "### Caso 3: Con regularizador l1_l2"
      ],
      "metadata": {
        "id": "692oWz8oB82n"
      }
    },
    {
      "cell_type": "code",
      "source": [
        "network3 = crea_modelo(3)"
      ],
      "metadata": {
        "id": "5fdxkjoKzFcu",
        "outputId": "195323d1-ccd7-4893-f2dc-284e4a75c3b6",
        "colab": {
          "base_uri": "https://localhost:8080/"
        }
      },
      "execution_count": 46,
      "outputs": [
        {
          "output_type": "stream",
          "name": "stdout",
          "text": [
            "Model: \"sequential_7\"\n",
            "_________________________________________________________________\n",
            " Layer (type)                Output Shape              Param #   \n",
            "=================================================================\n",
            " dense_10 (Dense)            (None, 512)               401920    \n",
            "                                                                 \n",
            " dense_11 (Dense)            (None, 10)                5130      \n",
            "                                                                 \n",
            "=================================================================\n",
            "Total params: 407,050\n",
            "Trainable params: 407,050\n",
            "Non-trainable params: 0\n",
            "_________________________________________________________________\n",
            "None\n"
          ]
        }
      ]
    },
    {
      "cell_type": "code",
      "source": [
        "network3 = compila_modelo(network3)"
      ],
      "metadata": {
        "id": "VJzs9A2yzPhx"
      },
      "execution_count": 47,
      "outputs": []
    },
    {
      "cell_type": "code",
      "source": [
        "historia3 = entrena_modelo(network3)"
      ],
      "metadata": {
        "id": "1JCUbcCQzY6E",
        "outputId": "d3d9b9b8-1b0a-4099-cf35-05fe09f86aae",
        "colab": {
          "base_uri": "https://localhost:8080/"
        }
      },
      "execution_count": 48,
      "outputs": [
        {
          "output_type": "stream",
          "name": "stdout",
          "text": [
            "Epoch 1/30\n",
            "391/391 [==============================] - 2s 4ms/step - loss: 2.1828 - accuracy: 0.8397 - val_loss: 1.0823 - val_accuracy: 0.8730\n",
            "Epoch 2/30\n",
            "391/391 [==============================] - 1s 4ms/step - loss: 0.9828 - accuracy: 0.8774 - val_loss: 0.8471 - val_accuracy: 0.9148\n",
            "Epoch 3/30\n",
            "391/391 [==============================] - 1s 4ms/step - loss: 0.8606 - accuracy: 0.8978 - val_loss: 0.7998 - val_accuracy: 0.9126\n",
            "Epoch 4/30\n",
            "391/391 [==============================] - 2s 4ms/step - loss: 0.7852 - accuracy: 0.9113 - val_loss: 0.7105 - val_accuracy: 0.9301\n",
            "Epoch 5/30\n",
            "391/391 [==============================] - 1s 3ms/step - loss: 0.7321 - accuracy: 0.9198 - val_loss: 0.6956 - val_accuracy: 0.9324\n",
            "Epoch 6/30\n",
            "391/391 [==============================] - 1s 4ms/step - loss: 0.6927 - accuracy: 0.9281 - val_loss: 0.6311 - val_accuracy: 0.9465\n",
            "Epoch 7/30\n",
            "391/391 [==============================] - 1s 3ms/step - loss: 0.6644 - accuracy: 0.9326 - val_loss: 0.6467 - val_accuracy: 0.9357\n",
            "Epoch 8/30\n",
            "391/391 [==============================] - 1s 3ms/step - loss: 0.6414 - accuracy: 0.9361 - val_loss: 0.6251 - val_accuracy: 0.9451\n",
            "Epoch 9/30\n",
            "391/391 [==============================] - 1s 3ms/step - loss: 0.6241 - accuracy: 0.9387 - val_loss: 0.5871 - val_accuracy: 0.9502\n",
            "Epoch 10/30\n",
            "391/391 [==============================] - 1s 4ms/step - loss: 0.6086 - accuracy: 0.9425 - val_loss: 0.5837 - val_accuracy: 0.9502\n",
            "Epoch 11/30\n",
            "391/391 [==============================] - 1s 4ms/step - loss: 0.5960 - accuracy: 0.9437 - val_loss: 0.5680 - val_accuracy: 0.9535\n",
            "Epoch 12/30\n",
            "391/391 [==============================] - 1s 4ms/step - loss: 0.5820 - accuracy: 0.9472 - val_loss: 0.5643 - val_accuracy: 0.9545\n",
            "Epoch 13/30\n",
            "391/391 [==============================] - 1s 3ms/step - loss: 0.5728 - accuracy: 0.9473 - val_loss: 0.5499 - val_accuracy: 0.9566\n",
            "Epoch 14/30\n",
            "391/391 [==============================] - 1s 4ms/step - loss: 0.5633 - accuracy: 0.9490 - val_loss: 0.5489 - val_accuracy: 0.9542\n",
            "Epoch 15/30\n",
            "391/391 [==============================] - 1s 4ms/step - loss: 0.5547 - accuracy: 0.9494 - val_loss: 0.5498 - val_accuracy: 0.9497\n",
            "Epoch 16/30\n",
            "391/391 [==============================] - 1s 3ms/step - loss: 0.5483 - accuracy: 0.9515 - val_loss: 0.5142 - val_accuracy: 0.9614\n",
            "Epoch 17/30\n",
            "391/391 [==============================] - 1s 4ms/step - loss: 0.5405 - accuracy: 0.9518 - val_loss: 0.5353 - val_accuracy: 0.9556\n",
            "Epoch 18/30\n",
            "391/391 [==============================] - 2s 4ms/step - loss: 0.5352 - accuracy: 0.9530 - val_loss: 0.5512 - val_accuracy: 0.9505\n",
            "Epoch 19/30\n",
            "391/391 [==============================] - 2s 4ms/step - loss: 0.5306 - accuracy: 0.9539 - val_loss: 0.5183 - val_accuracy: 0.9587\n",
            "Epoch 20/30\n",
            "391/391 [==============================] - 2s 4ms/step - loss: 0.5251 - accuracy: 0.9550 - val_loss: 0.5106 - val_accuracy: 0.9617\n",
            "Epoch 21/30\n",
            "391/391 [==============================] - 2s 4ms/step - loss: 0.5224 - accuracy: 0.9549 - val_loss: 0.5011 - val_accuracy: 0.9635\n",
            "Epoch 22/30\n",
            "391/391 [==============================] - 2s 4ms/step - loss: 0.5171 - accuracy: 0.9556 - val_loss: 0.5287 - val_accuracy: 0.9550\n",
            "Epoch 23/30\n",
            "391/391 [==============================] - 1s 3ms/step - loss: 0.5150 - accuracy: 0.9557 - val_loss: 0.4920 - val_accuracy: 0.9648\n",
            "Epoch 24/30\n",
            "391/391 [==============================] - 2s 4ms/step - loss: 0.5128 - accuracy: 0.9555 - val_loss: 0.5132 - val_accuracy: 0.9576\n",
            "Epoch 25/30\n",
            "391/391 [==============================] - 2s 5ms/step - loss: 0.5083 - accuracy: 0.9570 - val_loss: 0.5044 - val_accuracy: 0.9601\n",
            "Epoch 26/30\n",
            "391/391 [==============================] - 1s 4ms/step - loss: 0.5067 - accuracy: 0.9572 - val_loss: 0.4946 - val_accuracy: 0.9620\n",
            "Epoch 27/30\n",
            "391/391 [==============================] - 1s 3ms/step - loss: 0.5032 - accuracy: 0.9577 - val_loss: 0.5264 - val_accuracy: 0.9502\n",
            "Epoch 28/30\n",
            "391/391 [==============================] - 2s 4ms/step - loss: 0.5009 - accuracy: 0.9586 - val_loss: 0.5300 - val_accuracy: 0.9451\n",
            "Epoch 29/30\n",
            "391/391 [==============================] - 1s 3ms/step - loss: 0.4999 - accuracy: 0.9570 - val_loss: 0.4928 - val_accuracy: 0.9616\n",
            "Epoch 30/30\n",
            "391/391 [==============================] - 1s 3ms/step - loss: 0.4968 - accuracy: 0.9576 - val_loss: 0.4907 - val_accuracy: 0.9627\n"
          ]
        }
      ]
    },
    {
      "cell_type": "code",
      "source": [
        "pinta_perdida_entrenamiento_validacion(historia3)"
      ],
      "metadata": {
        "id": "I8XzPVtyze8y",
        "outputId": "752499dc-471e-4e59-9389-f81373e3bd01",
        "colab": {
          "base_uri": "https://localhost:8080/",
          "height": 295
        }
      },
      "execution_count": 49,
      "outputs": [
        {
          "output_type": "display_data",
          "data": {
            "text/plain": [
              "<Figure size 432x288 with 1 Axes>"
            ],
            "image/png": "[encoded data removed]"
          },
          "metadata": {
            "needs_background": "light"
          }
        }
      ]
    },
    {
      "cell_type": "code",
      "source": [
        "pinta_precision_entrenamiento_validacion(historia3)"
      ],
      "metadata": {
        "id": "nKk7AmM8zi3A",
        "outputId": "68bfb18a-2bd1-4a84-9d64-274cba3f15eb",
        "colab": {
          "base_uri": "https://localhost:8080/",
          "height": 295
        }
      },
      "execution_count": 50,
      "outputs": [
        {
          "output_type": "display_data",
          "data": {
            "text/plain": [
              "<Figure size 432x288 with 1 Axes>"
            ],
            "image/png": "[encoded data removed]"
          },
          "metadata": {
            "needs_background": "light"
          }
        }
      ]
    },
    {
      "cell_type": "markdown",
      "source": [
        "### Caso 4: Con Droput"
      ],
      "metadata": {
        "id": "OPVcbgcXCFRL"
      }
    },
    {
      "cell_type": "code",
      "source": [
        "network4 = crea_modelo(4)"
      ],
      "metadata": {
        "id": "5MVbUNX11Pgr",
        "outputId": "fd468be4-8349-4345-8277-1818d02c8ca7",
        "colab": {
          "base_uri": "https://localhost:8080/"
        }
      },
      "execution_count": 51,
      "outputs": [
        {
          "output_type": "stream",
          "name": "stdout",
          "text": [
            "Model: \"sequential_8\"\n",
            "_________________________________________________________________\n",
            " Layer (type)                Output Shape              Param #   \n",
            "=================================================================\n",
            " dense_12 (Dense)            (None, 512)               401920    \n",
            "                                                                 \n",
            " dropout (Dropout)           (None, 512)               0         \n",
            "                                                                 \n",
            " dense_13 (Dense)            (None, 10)                5130      \n",
            "                                                                 \n",
            "=================================================================\n",
            "Total params: 407,050\n",
            "Trainable params: 407,050\n",
            "Non-trainable params: 0\n",
            "_________________________________________________________________\n",
            "None\n"
          ]
        }
      ]
    },
    {
      "cell_type": "code",
      "source": [
        "network4 = compila_modelo(network4)"
      ],
      "metadata": {
        "id": "pT-13IKI1UpW"
      },
      "execution_count": 52,
      "outputs": []
    },
    {
      "cell_type": "code",
      "source": [
        "historia4 = entrena_modelo(network4)"
      ],
      "metadata": {
        "id": "kNWidx1S1aCH",
        "outputId": "5e2a17f9-fa0a-481b-e673-d659807e1b44",
        "colab": {
          "base_uri": "https://localhost:8080/"
        }
      },
      "execution_count": 53,
      "outputs": [
        {
          "output_type": "stream",
          "name": "stdout",
          "text": [
            "Epoch 1/30\n",
            "391/391 [==============================] - 2s 5ms/step - loss: 0.3473 - accuracy: 0.8975 - val_loss: 0.1546 - val_accuracy: 0.9560\n",
            "Epoch 2/30\n",
            "391/391 [==============================] - 1s 4ms/step - loss: 0.1679 - accuracy: 0.9504 - val_loss: 0.1198 - val_accuracy: 0.9645\n",
            "Epoch 3/30\n",
            "391/391 [==============================] - 2s 4ms/step - loss: 0.1273 - accuracy: 0.9626 - val_loss: 0.0990 - val_accuracy: 0.9729\n",
            "Epoch 4/30\n",
            "391/391 [==============================] - 1s 3ms/step - loss: 0.1068 - accuracy: 0.9682 - val_loss: 0.0907 - val_accuracy: 0.9750\n",
            "Epoch 5/30\n",
            "391/391 [==============================] - 1s 3ms/step - loss: 0.0913 - accuracy: 0.9736 - val_loss: 0.0856 - val_accuracy: 0.9748\n",
            "Epoch 6/30\n",
            "391/391 [==============================] - 1s 3ms/step - loss: 0.0822 - accuracy: 0.9754 - val_loss: 0.0785 - val_accuracy: 0.9777\n",
            "Epoch 7/30\n",
            "391/391 [==============================] - 1s 3ms/step - loss: 0.0754 - accuracy: 0.9771 - val_loss: 0.0756 - val_accuracy: 0.9783\n",
            "Epoch 8/30\n",
            "391/391 [==============================] - 1s 4ms/step - loss: 0.0683 - accuracy: 0.9796 - val_loss: 0.0784 - val_accuracy: 0.9789\n",
            "Epoch 9/30\n",
            "391/391 [==============================] - 1s 4ms/step - loss: 0.0635 - accuracy: 0.9811 - val_loss: 0.0759 - val_accuracy: 0.9790\n",
            "Epoch 10/30\n",
            "391/391 [==============================] - 1s 3ms/step - loss: 0.0594 - accuracy: 0.9818 - val_loss: 0.0786 - val_accuracy: 0.9800\n",
            "Epoch 11/30\n",
            "391/391 [==============================] - 1s 4ms/step - loss: 0.0575 - accuracy: 0.9822 - val_loss: 0.0760 - val_accuracy: 0.9788\n",
            "Epoch 12/30\n",
            "391/391 [==============================] - 2s 4ms/step - loss: 0.0513 - accuracy: 0.9845 - val_loss: 0.0802 - val_accuracy: 0.9803\n",
            "Epoch 13/30\n",
            "391/391 [==============================] - 1s 4ms/step - loss: 0.0492 - accuracy: 0.9854 - val_loss: 0.0783 - val_accuracy: 0.9803\n",
            "Epoch 14/30\n",
            "391/391 [==============================] - 1s 3ms/step - loss: 0.0467 - accuracy: 0.9859 - val_loss: 0.0814 - val_accuracy: 0.9814\n",
            "Epoch 15/30\n",
            "391/391 [==============================] - 1s 4ms/step - loss: 0.0435 - accuracy: 0.9868 - val_loss: 0.0813 - val_accuracy: 0.9808\n",
            "Epoch 16/30\n",
            "391/391 [==============================] - 1s 3ms/step - loss: 0.0442 - accuracy: 0.9859 - val_loss: 0.0755 - val_accuracy: 0.9827\n",
            "Epoch 17/30\n",
            "391/391 [==============================] - 1s 3ms/step - loss: 0.0397 - accuracy: 0.9883 - val_loss: 0.0775 - val_accuracy: 0.9814\n",
            "Epoch 18/30\n",
            "391/391 [==============================] - 1s 4ms/step - loss: 0.0387 - accuracy: 0.9880 - val_loss: 0.0808 - val_accuracy: 0.9811\n",
            "Epoch 19/30\n",
            "391/391 [==============================] - 2s 4ms/step - loss: 0.0364 - accuracy: 0.9888 - val_loss: 0.0851 - val_accuracy: 0.9818\n",
            "Epoch 20/30\n",
            "391/391 [==============================] - 1s 3ms/step - loss: 0.0356 - accuracy: 0.9894 - val_loss: 0.0824 - val_accuracy: 0.9814\n",
            "Epoch 21/30\n",
            "391/391 [==============================] - 1s 3ms/step - loss: 0.0355 - accuracy: 0.9891 - val_loss: 0.0834 - val_accuracy: 0.9820\n",
            "Epoch 22/30\n",
            "391/391 [==============================] - 1s 3ms/step - loss: 0.0340 - accuracy: 0.9896 - val_loss: 0.0861 - val_accuracy: 0.9826\n",
            "Epoch 23/30\n",
            "391/391 [==============================] - 1s 3ms/step - loss: 0.0337 - accuracy: 0.9896 - val_loss: 0.0858 - val_accuracy: 0.9824\n",
            "Epoch 24/30\n",
            "391/391 [==============================] - 1s 3ms/step - loss: 0.0316 - accuracy: 0.9906 - val_loss: 0.0878 - val_accuracy: 0.9825\n",
            "Epoch 25/30\n",
            "391/391 [==============================] - 1s 3ms/step - loss: 0.0304 - accuracy: 0.9907 - val_loss: 0.0870 - val_accuracy: 0.9808\n",
            "Epoch 26/30\n",
            "391/391 [==============================] - 1s 3ms/step - loss: 0.0302 - accuracy: 0.9910 - val_loss: 0.0912 - val_accuracy: 0.9823\n",
            "Epoch 27/30\n",
            "391/391 [==============================] - 1s 4ms/step - loss: 0.0294 - accuracy: 0.9915 - val_loss: 0.0845 - val_accuracy: 0.9839\n",
            "Epoch 28/30\n",
            "391/391 [==============================] - 2s 4ms/step - loss: 0.0278 - accuracy: 0.9922 - val_loss: 0.0877 - val_accuracy: 0.9825\n",
            "Epoch 29/30\n",
            "391/391 [==============================] - 1s 4ms/step - loss: 0.0280 - accuracy: 0.9923 - val_loss: 0.0917 - val_accuracy: 0.9826\n",
            "Epoch 30/30\n",
            "391/391 [==============================] - 1s 3ms/step - loss: 0.0274 - accuracy: 0.9913 - val_loss: 0.0976 - val_accuracy: 0.9823\n"
          ]
        }
      ]
    },
    {
      "cell_type": "code",
      "source": [
        "pinta_perdida_entrenamiento_validacion(historia4)"
      ],
      "metadata": {
        "id": "R9pI34Yr1gBO",
        "outputId": "44703971-883a-4459-ac8c-fbc3f92301b4",
        "colab": {
          "base_uri": "https://localhost:8080/",
          "height": 295
        }
      },
      "execution_count": 54,
      "outputs": [
        {
          "output_type": "display_data",
          "data": {
            "text/plain": [
              "<Figure size 432x288 with 1 Axes>"
            ],
            "image/png": "[encoded data removed]"
          },
          "metadata": {
            "needs_background": "light"
          }
        }
      ]
    },
    {
      "cell_type": "code",
      "source": [
        "pinta_precision_entrenamiento_validacion(historia4)"
      ],
      "metadata": {
        "id": "EwEIEOKx1lQr",
        "outputId": "30e04909-f9e6-4bf1-878d-a1453a2e1871",
        "colab": {
          "base_uri": "https://localhost:8080/",
          "height": 295
        }
      },
      "execution_count": 55,
      "outputs": [
        {
          "output_type": "display_data",
          "data": {
            "text/plain": [
              "<Figure size 432x288 with 1 Axes>"
            ],
            "image/png": "[encoded data removed]"
          },
          "metadata": {
            "needs_background": "light"
          }
        }
      ]
    },
    {
      "cell_type": "markdown",
      "source": [
        "### Caso 5: Error de código de regularizador"
      ],
      "metadata": {
        "id": "e6rlKx2nCOgU"
      }
    },
    {
      "cell_type": "code",
      "source": [
        "network5 = crea_modelo(5)"
      ],
      "metadata": {
        "id": "SqGDm8VM1rwR",
        "outputId": "a4c1bfa4-573c-4cb2-cfbf-0bc99f86da22",
        "colab": {
          "base_uri": "https://localhost:8080/"
        }
      },
      "execution_count": 56,
      "outputs": [
        {
          "output_type": "stream",
          "name": "stdout",
          "text": [
            "Regularizador no valido\n"
          ]
        }
      ]
    },
    {
      "cell_type": "markdown",
      "source": [
        "### CONCLUSIONES"
      ],
      "metadata": {
        "id": "IklUu29cCcVe"
      }
    },
    {
      "cell_type": "markdown",
      "source": [],
      "metadata": {
        "id": "cB_OYjjaChzN"
      }
    }
  ]
}