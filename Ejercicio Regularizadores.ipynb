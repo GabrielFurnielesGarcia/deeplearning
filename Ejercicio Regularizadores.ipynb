{
  "nbformat": 4,
  "nbformat_minor": 0,
  "metadata": {
    "kernelspec": {
      "display_name": "Python 3",
      "language": "python",
      "name": "python3"
    },
    "language_info": {
      "codemirror_mode": {
        "name": "ipython",
        "version": 3
      },
      "file_extension": ".py",
      "mimetype": "text/x-python",
      "name": "python",
      "nbconvert_exporter": "python",
      "pygments_lexer": "ipython3",
      "version": "3.8.5"
    },
    "colab": {
      "name": "2_1_Un_primer_vistazo_a_una_Red_Neuronal.ipynb",
      "provenance": [],
      "include_colab_link": true
    },
    "accelerator": "GPU",
    "gpuClass": "standard"
  },
  "cells": [
    {
      "cell_type": "markdown",
      "metadata": {
        "id": "view-in-github",
        "colab_type": "text"
      },
      "source": [
        "<a href=\"https://colab.research.google.com/github/GabrielFurnielesGarcia/deeplearning/blob/main/Ejercicio%20Regularizadores.ipynb\" target=\"_parent\"><img src=\"https://colab.research.google.com/assets/colab-badge.svg\" alt=\"Open In Colab\"/></a>"
      ]
    },
    {
      "cell_type": "markdown",
      "metadata": {
        "id": "Ejg7Msp7rbkk"
      },
      "source": [
        "# Ejercicio con regularizadores"
      ]
    },
    {
      "cell_type": "code",
      "source": [
        "%tensorflow_version 2.x\n",
        "import tensorflow as tf\n",
        "from tensorflow import keras\n",
        "print(tf.keras.__version__)\n",
        "print(\"GPU Available:\", tf.config.list_physical_devices('GPU'))\n",
        "print(tf.__version__)\n",
        "from keras.datasets import mnist\n",
        "from keras import models\n",
        "from keras import layers\n",
        "import numpy as np\n",
        "import matplotlib.pyplot as plt\n",
        "from keras import regularizers"
      ],
      "metadata": {
        "id": "BSivef1i532C",
        "outputId": "6cb51447-338f-492e-cac3-a81e678aa4bd",
        "colab": {
          "base_uri": "https://localhost:8080/"
        }
      },
      "execution_count": 1,
      "outputs": [
        {
          "output_type": "stream",
          "name": "stdout",
          "text": [
            "Colab only includes TensorFlow 2.x; %tensorflow_version has no effect.\n",
            "2.9.0\n",
            "GPU Available: [PhysicalDevice(name='/physical_device:GPU:0', device_type='GPU')]\n",
            "2.9.2\n"
          ]
        }
      ]
    },
    {
      "cell_type": "code",
      "source": [
        "(train_images, train_labels), (test_images, test_labels) = mnist.load_data() # Descarga los datos de MNIST"
      ],
      "metadata": {
        "id": "3t3R6gU9-wUy",
        "colab": {
          "base_uri": "https://localhost:8080/"
        },
        "outputId": "f56bb3bf-b251-4709-d0fd-94106ac648f9"
      },
      "execution_count": 2,
      "outputs": [
        {
          "output_type": "stream",
          "name": "stdout",
          "text": [
            "Downloading data from https://storage.googleapis.com/tensorflow/tf-keras-datasets/mnist.npz\n",
            "11490434/11490434 [==============================] - 0s 0us/step\n"
          ]
        }
      ]
    },
    {
      "cell_type": "code",
      "source": [
        "# Prepara con reshape y normaliza las imágenes tanto de entrenamiento como de test\n",
        "train_images = train_images.reshape((-1, 28*28))\n",
        "test_images = test_images.reshape((-1, 28*28))\n",
        "\n",
        "train_images = train_images.astype('float32') / 255.0\n",
        "test_images = test_images.astype('float32') / 255.0\n",
        "\n",
        "# Comprobamos que las transformaciones se han realizado correctamente\n",
        "print(train_images.shape, max(train_images[0]), min(train_images[0]))"
      ],
      "metadata": {
        "id": "H6n5NeSz0U1d",
        "outputId": "c015f44a-0316-4373-f2b5-da362f1bd913",
        "colab": {
          "base_uri": "https://localhost:8080/"
        }
      },
      "execution_count": 3,
      "outputs": [
        {
          "output_type": "stream",
          "name": "stdout",
          "text": [
            "(60000, 784) 1.0 0.0\n"
          ]
        }
      ]
    },
    {
      "cell_type": "code",
      "source": [
        "# Crear un subconjunto de imágenes de entrenamiento que llamaré\n",
        "# validation_images, para hacer las validaciones, con las 10000 últimas imágenes \n",
        "# del set de datos de entrenamiento (train_images) (obviamente, lo mismo con las\n",
        "# etiquetas correspondientes -> validation_labels). Deja preparadas las 50K \n",
        "# primeras imágenes y etiquetas para entrenamiento (train_images y train_labels)\n",
        "split = len(train_images) - 10000\n",
        "\n",
        "validation_images = train_images[split:]\n",
        "validation_labels = train_labels[split:]\n",
        "\n",
        "train_images = train_images[:split]\n",
        "train_labels = train_labels[:split]\n",
        "\n",
        "print(split, len(train_images), len(validation_images))"
      ],
      "metadata": {
        "id": "NKoZGyap0XAj",
        "outputId": "245dff2b-4094-4128-f4f7-0475a1b90073",
        "colab": {
          "base_uri": "https://localhost:8080/"
        }
      },
      "execution_count": 4,
      "outputs": [
        {
          "output_type": "stream",
          "name": "stdout",
          "text": [
            "50000 50000 10000\n"
          ]
        }
      ]
    },
    {
      "cell_type": "code",
      "source": [
        "def crea_modelo(regularizador):\n",
        "  # Define una función que recibe un número del 0 al 4 que creará:\n",
        "  # un modelo secuencial con una capa de entrada densa de 512 neuronas\n",
        "  # con activación relu y la capa de salida que le corresponda según el problema\n",
        "  # Ahora, en función del número del regularizador:\n",
        "  # Si es 0, no mete ningún regularizador\n",
        "  # Si es 1, mete un regularizador de tipo l1 y valor 0.001\n",
        "  # Si es 2, mete un regularizador de tipo l2 y valor 0.001\n",
        "  # Si es 3, mete un regularizador de tipo l1_l2 y valor 0.001 para ambos\n",
        "  # Si es 4, mete un Dropout del 50% después de la primera capa densa\n",
        "  # Si es distinto que estos valores, escribe el error y retorna\n",
        "  # Al final, esta función pinta el summary del modelo y retorna el modelo creado\n",
        "\n",
        "  model = keras.Sequential()\n",
        "\n",
        "  if regularizador == 0:\n",
        "    model.add(keras.layers.Dense(512, activation = 'relu', input_shape = (28*28,)))\n",
        "  elif regularizador == 1:\n",
        "    model.add(keras.layers.Dense(512,\n",
        "                                 activation = 'relu', \n",
        "                                 kernel_regularizer = keras.regularizers.l1(0.001), \n",
        "                                 input_shape = (28*28,)))\n",
        "  elif regularizador == 2:\n",
        "    model.add(keras.layers.Dense(512,\n",
        "                                 activation = 'relu', \n",
        "                                 kernel_regularizer = keras.regularizers.l2(0.001), \n",
        "                                 input_shape = (28*28,)))\n",
        "  elif regularizador == 3:\n",
        "    model.add(keras.layers.Dense(512,\n",
        "                                 activation = 'relu', \n",
        "                                 kernel_regularizer = keras.regularizers.l1_l2(0.001, 0.001), \n",
        "                                 input_shape = (28*28,)))\n",
        "  elif regularizador == 4:\n",
        "    model.add(keras.layers.Dense(512, activation = 'relu', input_shape = (28*28,)))\n",
        "    model.add(keras.layers.Dropout(0.5))\n",
        "  else:\n",
        "    print('Regularizador no valido')\n",
        "    return 0\n",
        "\n",
        "  model.add(keras.layers.Dense(10, activation = \"softmax\"))\n",
        "\n",
        "  print(model.summary())\n",
        "  return model"
      ],
      "metadata": {
        "id": "6JnVLVfsAfkh"
      },
      "execution_count": 5,
      "outputs": []
    },
    {
      "cell_type": "code",
      "source": [
        "def compila_modelo(modelo): \n",
        "  # Define una función que recibe un modelo, lo compila con un optimizador\n",
        "  # 'rmsprop', con una función de pérdida 'sparse_categorical_crossentropy' y\n",
        "  # una métrica de precisión. La función retorna el modelo\n",
        "  modelo.compile(optimizer='rmsprop',\n",
        "                 loss='sparse_categorical_crossentropy',\n",
        "                 metrics=['accuracy'])\n",
        "  return modelo"
      ],
      "metadata": {
        "id": "qKyJ8KOT0aFt"
      },
      "execution_count": 6,
      "outputs": []
    },
    {
      "cell_type": "code",
      "source": [
        "def entrena_modelo(modelo, batch_size = 128, epochs = 30):\n",
        "  # Define una función que entrena el modelo que se le pasa por parámetro,\n",
        "  # con las imágenes y etiquetas de entrenamiento, con 30 iteraciones y 128\n",
        "  # de tamaño de minilote y con el validation_data creado más arriba.\n",
        "  # Esta función devuelve un history\n",
        "  return modelo.fit(x=train_images, y=train_labels, batch_size=batch_size, epochs=epochs, validation_data= (validation_images, validation_labels))"
      ],
      "metadata": {
        "id": "_yQ7SpOt0cBp"
      },
      "execution_count": 7,
      "outputs": []
    },
    {
      "cell_type": "code",
      "source": [
        "def pinta_perdida_entrenamiento_validacion(historia):\n",
        "  history_dict = historia.history\n",
        "  acc = historia.history['accuracy']\n",
        "  val_acc = historia.history['val_accuracy']\n",
        "  loss = historia.history['loss']\n",
        "  val_loss = historia.history['val_loss']\n",
        "  epochs = range(1, len(acc) + 1)\n",
        "  # \"bo\" es para \"punto azun\"\n",
        "  plt.plot(epochs, loss, 'bo', label='Pérdida de Entrenamiento')\n",
        "  # \"b\" es para \"linea continua azul\"\n",
        "  plt.plot(epochs, val_loss, 'b', label='Pérdida de Validación')\n",
        "  plt.title('Pérdida de Entrenamiento y Validación')\n",
        "  plt.xlabel('Epochs')\n",
        "  plt.ylabel('Loss')\n",
        "  plt.legend()\n",
        "  plt.show()"
      ],
      "metadata": {
        "id": "bJrRNc4WwPN2"
      },
      "execution_count": 8,
      "outputs": []
    },
    {
      "cell_type": "code",
      "source": [
        "def pinta_precision_entrenamiento_validacion(historia):\n",
        "  history_dict = historia.history\n",
        "  acc = historia.history['accuracy']\n",
        "  val_acc = historia.history['val_accuracy']\n",
        "  loss = historia.history['loss']\n",
        "  val_loss = historia.history['val_loss']\n",
        "  plt.clf()   # Limpia la figura\n",
        "  acc_values = history_dict['accuracy']\n",
        "  val_acc_values = history_dict['val_accuracy']\n",
        "  epochs = range(1, len(acc) + 1)\n",
        "  plt.plot(epochs, acc, 'bo', label='Precisión de Entrenamiento')\n",
        "  plt.plot(epochs, val_acc, 'b', label='Precisión de Validación')\n",
        "  plt.title('Precisión de Entrenamiento y Valización')\n",
        "  plt.xlabel('Epochs')\n",
        "  plt.ylabel('Loss')\n",
        "  plt.legend()\n",
        "  plt.show()"
      ],
      "metadata": {
        "id": "Mafxp6D3wYQx"
      },
      "execution_count": 9,
      "outputs": []
    },
    {
      "cell_type": "markdown",
      "source": [
        "## Una vez definidas todas las funciones anteriores, ejecuta las siguientes llamadas a dichas funciones y deduce que está pasando y, para este contexto, que es lo que mejor está funcionando"
      ],
      "metadata": {
        "id": "6nnQYysYA3_T"
      }
    },
    {
      "cell_type": "markdown",
      "source": [
        "### Caso 0, sin regularizadores"
      ],
      "metadata": {
        "id": "OrGwDgaFBax4"
      }
    },
    {
      "cell_type": "code",
      "source": [
        "network0 = crea_modelo(0)"
      ],
      "metadata": {
        "id": "uXvhlXg79Zi9",
        "outputId": "13a0b617-7441-4c92-c703-8bf10c50c4b7",
        "colab": {
          "base_uri": "https://localhost:8080/"
        }
      },
      "execution_count": 10,
      "outputs": [
        {
          "output_type": "stream",
          "name": "stdout",
          "text": [
            "Model: \"sequential\"\n",
            "_________________________________________________________________\n",
            " Layer (type)                Output Shape              Param #   \n",
            "=================================================================\n",
            " dense (Dense)               (None, 512)               401920    \n",
            "                                                                 \n",
            " dense_1 (Dense)             (None, 10)                5130      \n",
            "                                                                 \n",
            "=================================================================\n",
            "Total params: 407,050\n",
            "Trainable params: 407,050\n",
            "Non-trainable params: 0\n",
            "_________________________________________________________________\n",
            "None\n"
          ]
        }
      ]
    },
    {
      "cell_type": "code",
      "source": [
        "network0 = compila_modelo(network0)"
      ],
      "metadata": {
        "id": "Ff0HC3NR9ez8"
      },
      "execution_count": 11,
      "outputs": []
    },
    {
      "cell_type": "code",
      "source": [
        "historia0 = entrena_modelo(network0)"
      ],
      "metadata": {
        "id": "x9zQDOlw9g6V",
        "outputId": "5999f850-a306-4c58-b507-7cf6da09322e",
        "colab": {
          "base_uri": "https://localhost:8080/"
        }
      },
      "execution_count": 12,
      "outputs": [
        {
          "output_type": "stream",
          "name": "stdout",
          "text": [
            "Epoch 1/30\n",
            "391/391 [==============================] - 6s 7ms/step - loss: 0.2806 - accuracy: 0.9185 - val_loss: 0.1442 - val_accuracy: 0.9602\n",
            "Epoch 2/30\n",
            "391/391 [==============================] - 1s 4ms/step - loss: 0.1145 - accuracy: 0.9653 - val_loss: 0.1047 - val_accuracy: 0.9700\n",
            "Epoch 3/30\n",
            "391/391 [==============================] - 1s 3ms/step - loss: 0.0763 - accuracy: 0.9776 - val_loss: 0.0877 - val_accuracy: 0.9748\n",
            "Epoch 4/30\n",
            "391/391 [==============================] - 1s 3ms/step - loss: 0.0549 - accuracy: 0.9834 - val_loss: 0.0762 - val_accuracy: 0.9782\n",
            "Epoch 5/30\n",
            "391/391 [==============================] - 1s 3ms/step - loss: 0.0404 - accuracy: 0.9880 - val_loss: 0.0758 - val_accuracy: 0.9791\n",
            "Epoch 6/30\n",
            "391/391 [==============================] - 1s 4ms/step - loss: 0.0311 - accuracy: 0.9911 - val_loss: 0.0806 - val_accuracy: 0.9774\n",
            "Epoch 7/30\n",
            "391/391 [==============================] - 1s 3ms/step - loss: 0.0233 - accuracy: 0.9934 - val_loss: 0.0859 - val_accuracy: 0.9777\n",
            "Epoch 8/30\n",
            "391/391 [==============================] - 1s 3ms/step - loss: 0.0183 - accuracy: 0.9946 - val_loss: 0.0774 - val_accuracy: 0.9788\n",
            "Epoch 9/30\n",
            "391/391 [==============================] - 1s 3ms/step - loss: 0.0138 - accuracy: 0.9960 - val_loss: 0.0725 - val_accuracy: 0.9806\n",
            "Epoch 10/30\n",
            "391/391 [==============================] - 2s 4ms/step - loss: 0.0103 - accuracy: 0.9971 - val_loss: 0.0756 - val_accuracy: 0.9812\n",
            "Epoch 11/30\n",
            "391/391 [==============================] - 2s 5ms/step - loss: 0.0078 - accuracy: 0.9978 - val_loss: 0.0739 - val_accuracy: 0.9822\n",
            "Epoch 12/30\n",
            "391/391 [==============================] - 1s 4ms/step - loss: 0.0061 - accuracy: 0.9983 - val_loss: 0.0844 - val_accuracy: 0.9832\n",
            "Epoch 13/30\n",
            "391/391 [==============================] - 1s 4ms/step - loss: 0.0045 - accuracy: 0.9988 - val_loss: 0.0929 - val_accuracy: 0.9808\n",
            "Epoch 14/30\n",
            "391/391 [==============================] - 1s 3ms/step - loss: 0.0033 - accuracy: 0.9992 - val_loss: 0.0836 - val_accuracy: 0.9832\n",
            "Epoch 15/30\n",
            "391/391 [==============================] - 1s 3ms/step - loss: 0.0029 - accuracy: 0.9992 - val_loss: 0.0888 - val_accuracy: 0.9835\n",
            "Epoch 16/30\n",
            "391/391 [==============================] - 1s 4ms/step - loss: 0.0022 - accuracy: 0.9994 - val_loss: 0.0933 - val_accuracy: 0.9828\n",
            "Epoch 17/30\n",
            "391/391 [==============================] - 1s 3ms/step - loss: 0.0013 - accuracy: 0.9996 - val_loss: 0.1019 - val_accuracy: 0.9806\n",
            "Epoch 18/30\n",
            "391/391 [==============================] - 1s 3ms/step - loss: 0.0013 - accuracy: 0.9996 - val_loss: 0.1124 - val_accuracy: 0.9794\n",
            "Epoch 19/30\n",
            "391/391 [==============================] - 1s 3ms/step - loss: 0.0011 - accuracy: 0.9997 - val_loss: 0.1109 - val_accuracy: 0.9823\n",
            "Epoch 20/30\n",
            "391/391 [==============================] - 1s 4ms/step - loss: 9.8984e-04 - accuracy: 0.9998 - val_loss: 0.1091 - val_accuracy: 0.9828\n",
            "Epoch 21/30\n",
            "391/391 [==============================] - 1s 3ms/step - loss: 5.9631e-04 - accuracy: 0.9998 - val_loss: 0.1087 - val_accuracy: 0.9832\n",
            "Epoch 22/30\n",
            "391/391 [==============================] - 1s 3ms/step - loss: 5.2491e-04 - accuracy: 0.9998 - val_loss: 0.1166 - val_accuracy: 0.9819\n",
            "Epoch 23/30\n",
            "391/391 [==============================] - 1s 3ms/step - loss: 3.7513e-04 - accuracy: 0.9999 - val_loss: 0.1109 - val_accuracy: 0.9825\n",
            "Epoch 24/30\n",
            "391/391 [==============================] - 1s 3ms/step - loss: 2.8125e-04 - accuracy: 1.0000 - val_loss: 0.1172 - val_accuracy: 0.9830\n",
            "Epoch 25/30\n",
            "391/391 [==============================] - 1s 3ms/step - loss: 2.4493e-04 - accuracy: 1.0000 - val_loss: 0.1196 - val_accuracy: 0.9824\n",
            "Epoch 26/30\n",
            "391/391 [==============================] - 1s 3ms/step - loss: 2.4278e-04 - accuracy: 0.9999 - val_loss: 0.1216 - val_accuracy: 0.9823\n",
            "Epoch 27/30\n",
            "391/391 [==============================] - 1s 3ms/step - loss: 2.7284e-04 - accuracy: 0.9999 - val_loss: 0.1222 - val_accuracy: 0.9823\n",
            "Epoch 28/30\n",
            "391/391 [==============================] - 1s 3ms/step - loss: 2.0232e-04 - accuracy: 1.0000 - val_loss: 0.1304 - val_accuracy: 0.9832\n",
            "Epoch 29/30\n",
            "391/391 [==============================] - 1s 3ms/step - loss: 1.2116e-04 - accuracy: 1.0000 - val_loss: 0.1322 - val_accuracy: 0.9837\n",
            "Epoch 30/30\n",
            "391/391 [==============================] - 1s 3ms/step - loss: 9.0776e-05 - accuracy: 1.0000 - val_loss: 0.1354 - val_accuracy: 0.9825\n"
          ]
        }
      ]
    },
    {
      "cell_type": "code",
      "source": [
        "pinta_perdida_entrenamiento_validacion(historia0)"
      ],
      "metadata": {
        "id": "OvhDZvS8-0mG",
        "outputId": "29222860-aa49-42de-a695-22f38d712131",
        "colab": {
          "base_uri": "https://localhost:8080/",
          "height": 295
        }
      },
      "execution_count": 13,
      "outputs": [
        {
          "output_type": "display_data",
          "data": {
            "text/plain": [
              "<Figure size 432x288 with 1 Axes>"
            ],
            "image/png": "[encoded data removed]"
          },
          "metadata": {
            "needs_background": "light"
          }
        }
      ]
    },
    {
      "cell_type": "code",
      "source": [
        "pinta_precision_entrenamiento_validacion(historia0)"
      ],
      "metadata": {
        "id": "UuiL2CCH_fGN",
        "outputId": "8fe183ba-8a5c-42a9-ef56-b7357a2b5893",
        "colab": {
          "base_uri": "https://localhost:8080/",
          "height": 295
        }
      },
      "execution_count": 14,
      "outputs": [
        {
          "output_type": "display_data",
          "data": {
            "text/plain": [
              "<Figure size 432x288 with 1 Axes>"
            ],
            "image/png": "[encoded data removed]"
          },
          "metadata": {
            "needs_background": "light"
          }
        }
      ]
    },
    {
      "cell_type": "markdown",
      "source": [
        "### Caso 1: Con regularizador l1"
      ],
      "metadata": {
        "id": "pw6iBGO5Bg8J"
      }
    },
    {
      "cell_type": "code",
      "source": [
        "network1 = crea_modelo(1)"
      ],
      "metadata": {
        "id": "D6JPtw5zCz-1",
        "outputId": "dd976843-018e-4611-e67f-614f42069263",
        "colab": {
          "base_uri": "https://localhost:8080/"
        }
      },
      "execution_count": 15,
      "outputs": [
        {
          "output_type": "stream",
          "name": "stdout",
          "text": [
            "Model: \"sequential_1\"\n",
            "_________________________________________________________________\n",
            " Layer (type)                Output Shape              Param #   \n",
            "=================================================================\n",
            " dense_2 (Dense)             (None, 512)               401920    \n",
            "                                                                 \n",
            " dense_3 (Dense)             (None, 10)                5130      \n",
            "                                                                 \n",
            "=================================================================\n",
            "Total params: 407,050\n",
            "Trainable params: 407,050\n",
            "Non-trainable params: 0\n",
            "_________________________________________________________________\n",
            "None\n"
          ]
        }
      ]
    },
    {
      "cell_type": "code",
      "source": [
        "network1 = compila_modelo(network1)"
      ],
      "metadata": {
        "id": "zL3Gp7wvFRq3"
      },
      "execution_count": 16,
      "outputs": []
    },
    {
      "cell_type": "code",
      "source": [
        "historia1 = entrena_modelo(network1)"
      ],
      "metadata": {
        "id": "G2FG1Z4xFW72",
        "outputId": "dec5b728-9dd3-4666-951d-093b3df6cc1d",
        "colab": {
          "base_uri": "https://localhost:8080/"
        }
      },
      "execution_count": 17,
      "outputs": [
        {
          "output_type": "stream",
          "name": "stdout",
          "text": [
            "Epoch 1/30\n",
            "391/391 [==============================] - 2s 4ms/step - loss: 2.1527 - accuracy: 0.8447 - val_loss: 1.0109 - val_accuracy: 0.8776\n",
            "Epoch 2/30\n",
            "391/391 [==============================] - 1s 3ms/step - loss: 0.9653 - accuracy: 0.8804 - val_loss: 0.9057 - val_accuracy: 0.8844\n",
            "Epoch 3/30\n",
            "391/391 [==============================] - 1s 3ms/step - loss: 0.8439 - accuracy: 0.8997 - val_loss: 0.7546 - val_accuracy: 0.9241\n",
            "Epoch 4/30\n",
            "391/391 [==============================] - 1s 3ms/step - loss: 0.7626 - accuracy: 0.9142 - val_loss: 0.7062 - val_accuracy: 0.9289\n",
            "Epoch 5/30\n",
            "391/391 [==============================] - 1s 4ms/step - loss: 0.7135 - accuracy: 0.9229 - val_loss: 0.6674 - val_accuracy: 0.9350\n",
            "Epoch 6/30\n",
            "391/391 [==============================] - 1s 3ms/step - loss: 0.6741 - accuracy: 0.9296 - val_loss: 0.6302 - val_accuracy: 0.9425\n",
            "Epoch 7/30\n",
            "391/391 [==============================] - 1s 3ms/step - loss: 0.6471 - accuracy: 0.9341 - val_loss: 0.6119 - val_accuracy: 0.9438\n",
            "Epoch 8/30\n",
            "391/391 [==============================] - 1s 3ms/step - loss: 0.6248 - accuracy: 0.9380 - val_loss: 0.6135 - val_accuracy: 0.9435\n",
            "Epoch 9/30\n",
            "391/391 [==============================] - 1s 4ms/step - loss: 0.6064 - accuracy: 0.9418 - val_loss: 0.5689 - val_accuracy: 0.9501\n",
            "Epoch 10/30\n",
            "391/391 [==============================] - 2s 5ms/step - loss: 0.5925 - accuracy: 0.9430 - val_loss: 0.6006 - val_accuracy: 0.9432\n",
            "Epoch 11/30\n",
            "391/391 [==============================] - 1s 4ms/step - loss: 0.5810 - accuracy: 0.9445 - val_loss: 0.5549 - val_accuracy: 0.9531\n",
            "Epoch 12/30\n",
            "391/391 [==============================] - 1s 4ms/step - loss: 0.5699 - accuracy: 0.9464 - val_loss: 0.5559 - val_accuracy: 0.9523\n",
            "Epoch 13/30\n",
            "391/391 [==============================] - 1s 3ms/step - loss: 0.5608 - accuracy: 0.9484 - val_loss: 0.5376 - val_accuracy: 0.9527\n",
            "Epoch 14/30\n",
            "391/391 [==============================] - 1s 4ms/step - loss: 0.5519 - accuracy: 0.9505 - val_loss: 0.5395 - val_accuracy: 0.9548\n",
            "Epoch 15/30\n",
            "391/391 [==============================] - 1s 4ms/step - loss: 0.5431 - accuracy: 0.9514 - val_loss: 0.5375 - val_accuracy: 0.9534\n",
            "Epoch 16/30\n",
            "391/391 [==============================] - 1s 4ms/step - loss: 0.5394 - accuracy: 0.9518 - val_loss: 0.5174 - val_accuracy: 0.9607\n",
            "Epoch 17/30\n",
            "391/391 [==============================] - 1s 4ms/step - loss: 0.5319 - accuracy: 0.9525 - val_loss: 0.5181 - val_accuracy: 0.9593\n",
            "Epoch 18/30\n",
            "391/391 [==============================] - 1s 3ms/step - loss: 0.5262 - accuracy: 0.9534 - val_loss: 0.5045 - val_accuracy: 0.9613\n",
            "Epoch 19/30\n",
            "391/391 [==============================] - 1s 3ms/step - loss: 0.5215 - accuracy: 0.9544 - val_loss: 0.5133 - val_accuracy: 0.9575\n",
            "Epoch 20/30\n",
            "391/391 [==============================] - 1s 3ms/step - loss: 0.5184 - accuracy: 0.9548 - val_loss: 0.5327 - val_accuracy: 0.9525\n",
            "Epoch 21/30\n",
            "391/391 [==============================] - 1s 3ms/step - loss: 0.5137 - accuracy: 0.9549 - val_loss: 0.5124 - val_accuracy: 0.9595\n",
            "Epoch 22/30\n",
            "391/391 [==============================] - 1s 3ms/step - loss: 0.5100 - accuracy: 0.9568 - val_loss: 0.4870 - val_accuracy: 0.9628\n",
            "Epoch 23/30\n",
            "391/391 [==============================] - 1s 4ms/step - loss: 0.5072 - accuracy: 0.9564 - val_loss: 0.5093 - val_accuracy: 0.9569\n",
            "Epoch 24/30\n",
            "391/391 [==============================] - 1s 3ms/step - loss: 0.5032 - accuracy: 0.9571 - val_loss: 0.4990 - val_accuracy: 0.9563\n",
            "Epoch 25/30\n",
            "391/391 [==============================] - 1s 3ms/step - loss: 0.5008 - accuracy: 0.9570 - val_loss: 0.5225 - val_accuracy: 0.9526\n",
            "Epoch 26/30\n",
            "391/391 [==============================] - 1s 4ms/step - loss: 0.4973 - accuracy: 0.9582 - val_loss: 0.4881 - val_accuracy: 0.9637\n",
            "Epoch 27/30\n",
            "391/391 [==============================] - 1s 3ms/step - loss: 0.4934 - accuracy: 0.9590 - val_loss: 0.4902 - val_accuracy: 0.9636\n",
            "Epoch 28/30\n",
            "391/391 [==============================] - 1s 4ms/step - loss: 0.4929 - accuracy: 0.9580 - val_loss: 0.5249 - val_accuracy: 0.9526\n",
            "Epoch 29/30\n",
            "391/391 [==============================] - 1s 4ms/step - loss: 0.4918 - accuracy: 0.9580 - val_loss: 0.4831 - val_accuracy: 0.9622\n",
            "Epoch 30/30\n",
            "391/391 [==============================] - 1s 3ms/step - loss: 0.4878 - accuracy: 0.9591 - val_loss: 0.5058 - val_accuracy: 0.9564\n"
          ]
        }
      ]
    },
    {
      "cell_type": "code",
      "source": [
        "pinta_perdida_entrenamiento_validacion(historia1)"
      ],
      "metadata": {
        "id": "Vyv3yFtiFitw",
        "outputId": "7628db2b-dee4-4b5b-a8b2-4d44c865cf5a",
        "colab": {
          "base_uri": "https://localhost:8080/",
          "height": 295
        }
      },
      "execution_count": 18,
      "outputs": [
        {
          "output_type": "display_data",
          "data": {
            "text/plain": [
              "<Figure size 432x288 with 1 Axes>"
            ],
            "image/png": "[encoded data removed]"
          },
          "metadata": {
            "needs_background": "light"
          }
        }
      ]
    },
    {
      "cell_type": "code",
      "source": [
        "pinta_precision_entrenamiento_validacion(historia1)"
      ],
      "metadata": {
        "id": "pVUerJsqFo7K",
        "outputId": "73e42b4a-5e1f-4cae-9f59-861903f3ffc7",
        "colab": {
          "base_uri": "https://localhost:8080/",
          "height": 295
        }
      },
      "execution_count": 19,
      "outputs": [
        {
          "output_type": "display_data",
          "data": {
            "text/plain": [
              "<Figure size 432x288 with 1 Axes>"
            ],
            "image/png": "[encoded data removed]"
          },
          "metadata": {
            "needs_background": "light"
          }
        }
      ]
    },
    {
      "cell_type": "markdown",
      "source": [
        "### Caso 2: Con regularizador l2"
      ],
      "metadata": {
        "id": "hklwKNlMBzya"
      }
    },
    {
      "cell_type": "code",
      "source": [
        "network2 = crea_modelo(2)"
      ],
      "metadata": {
        "id": "tjIs0FziG5Ja",
        "outputId": "9c9f6ee0-e7e9-4804-b8d6-e26424d9db88",
        "colab": {
          "base_uri": "https://localhost:8080/"
        }
      },
      "execution_count": 20,
      "outputs": [
        {
          "output_type": "stream",
          "name": "stdout",
          "text": [
            "Model: \"sequential_2\"\n",
            "_________________________________________________________________\n",
            " Layer (type)                Output Shape              Param #   \n",
            "=================================================================\n",
            " dense_4 (Dense)             (None, 512)               401920    \n",
            "                                                                 \n",
            " dense_5 (Dense)             (None, 10)                5130      \n",
            "                                                                 \n",
            "=================================================================\n",
            "Total params: 407,050\n",
            "Trainable params: 407,050\n",
            "Non-trainable params: 0\n",
            "_________________________________________________________________\n",
            "None\n"
          ]
        }
      ]
    },
    {
      "cell_type": "code",
      "source": [
        "network2 = compila_modelo(network2)"
      ],
      "metadata": {
        "id": "UCdA0K_qyTUq"
      },
      "execution_count": 21,
      "outputs": []
    },
    {
      "cell_type": "code",
      "source": [
        "historia2 = entrena_modelo(network2)"
      ],
      "metadata": {
        "id": "WSuomx5oybpu",
        "outputId": "484375c9-9a5a-4c1a-b052-a4f9c66f1814",
        "colab": {
          "base_uri": "https://localhost:8080/"
        }
      },
      "execution_count": 22,
      "outputs": [
        {
          "output_type": "stream",
          "name": "stdout",
          "text": [
            "Epoch 1/30\n",
            "391/391 [==============================] - 2s 4ms/step - loss: 0.5279 - accuracy: 0.9127 - val_loss: 0.3012 - val_accuracy: 0.9521\n",
            "Epoch 2/30\n",
            "391/391 [==============================] - 1s 4ms/step - loss: 0.2626 - accuracy: 0.9548 - val_loss: 0.2435 - val_accuracy: 0.9562\n",
            "Epoch 3/30\n",
            "391/391 [==============================] - 1s 3ms/step - loss: 0.2093 - accuracy: 0.9631 - val_loss: 0.2443 - val_accuracy: 0.9492\n",
            "Epoch 4/30\n",
            "391/391 [==============================] - 1s 4ms/step - loss: 0.1873 - accuracy: 0.9659 - val_loss: 0.2510 - val_accuracy: 0.9432\n",
            "Epoch 5/30\n",
            "391/391 [==============================] - 1s 4ms/step - loss: 0.1733 - accuracy: 0.9694 - val_loss: 0.2033 - val_accuracy: 0.9591\n",
            "Epoch 6/30\n",
            "391/391 [==============================] - 1s 3ms/step - loss: 0.1639 - accuracy: 0.9713 - val_loss: 0.1726 - val_accuracy: 0.9683\n",
            "Epoch 7/30\n",
            "391/391 [==============================] - 1s 4ms/step - loss: 0.1575 - accuracy: 0.9723 - val_loss: 0.1653 - val_accuracy: 0.9715\n",
            "Epoch 8/30\n",
            "391/391 [==============================] - 1s 4ms/step - loss: 0.1501 - accuracy: 0.9744 - val_loss: 0.1710 - val_accuracy: 0.9663\n",
            "Epoch 9/30\n",
            "391/391 [==============================] - 1s 4ms/step - loss: 0.1465 - accuracy: 0.9750 - val_loss: 0.1717 - val_accuracy: 0.9682\n",
            "Epoch 10/30\n",
            "391/391 [==============================] - 1s 4ms/step - loss: 0.1429 - accuracy: 0.9755 - val_loss: 0.1523 - val_accuracy: 0.9731\n",
            "Epoch 11/30\n",
            "391/391 [==============================] - 1s 3ms/step - loss: 0.1389 - accuracy: 0.9767 - val_loss: 0.1748 - val_accuracy: 0.9649\n",
            "Epoch 12/30\n",
            "391/391 [==============================] - 1s 4ms/step - loss: 0.1371 - accuracy: 0.9760 - val_loss: 0.1475 - val_accuracy: 0.9744\n",
            "Epoch 13/30\n",
            "391/391 [==============================] - 1s 4ms/step - loss: 0.1338 - accuracy: 0.9768 - val_loss: 0.1423 - val_accuracy: 0.9765\n",
            "Epoch 14/30\n",
            "391/391 [==============================] - 1s 3ms/step - loss: 0.1313 - accuracy: 0.9777 - val_loss: 0.1474 - val_accuracy: 0.9727\n",
            "Epoch 15/30\n",
            "391/391 [==============================] - 1s 3ms/step - loss: 0.1302 - accuracy: 0.9777 - val_loss: 0.1436 - val_accuracy: 0.9746\n",
            "Epoch 16/30\n",
            "391/391 [==============================] - 1s 4ms/step - loss: 0.1271 - accuracy: 0.9787 - val_loss: 0.1421 - val_accuracy: 0.9752\n",
            "Epoch 17/30\n",
            "391/391 [==============================] - 1s 3ms/step - loss: 0.1254 - accuracy: 0.9791 - val_loss: 0.1564 - val_accuracy: 0.9689\n",
            "Epoch 18/30\n",
            "391/391 [==============================] - 1s 4ms/step - loss: 0.1234 - accuracy: 0.9790 - val_loss: 0.1849 - val_accuracy: 0.9642\n",
            "Epoch 19/30\n",
            "391/391 [==============================] - 1s 3ms/step - loss: 0.1225 - accuracy: 0.9794 - val_loss: 0.1336 - val_accuracy: 0.9784\n",
            "Epoch 20/30\n",
            "391/391 [==============================] - 1s 4ms/step - loss: 0.1217 - accuracy: 0.9800 - val_loss: 0.1399 - val_accuracy: 0.9765\n",
            "Epoch 21/30\n",
            "391/391 [==============================] - 1s 3ms/step - loss: 0.1179 - accuracy: 0.9807 - val_loss: 0.1345 - val_accuracy: 0.9752\n",
            "Epoch 22/30\n",
            "391/391 [==============================] - 1s 3ms/step - loss: 0.1164 - accuracy: 0.9802 - val_loss: 0.1546 - val_accuracy: 0.9722\n",
            "Epoch 23/30\n",
            "391/391 [==============================] - 1s 4ms/step - loss: 0.1153 - accuracy: 0.9805 - val_loss: 0.1402 - val_accuracy: 0.9736\n",
            "Epoch 24/30\n",
            "391/391 [==============================] - 1s 4ms/step - loss: 0.1139 - accuracy: 0.9812 - val_loss: 0.1503 - val_accuracy: 0.9688\n",
            "Epoch 25/30\n",
            "391/391 [==============================] - 1s 4ms/step - loss: 0.1119 - accuracy: 0.9820 - val_loss: 0.1310 - val_accuracy: 0.9777\n",
            "Epoch 26/30\n",
            "391/391 [==============================] - 1s 3ms/step - loss: 0.1131 - accuracy: 0.9805 - val_loss: 0.1250 - val_accuracy: 0.9786\n",
            "Epoch 27/30\n",
            "391/391 [==============================] - 1s 3ms/step - loss: 0.1112 - accuracy: 0.9811 - val_loss: 0.1860 - val_accuracy: 0.9601\n",
            "Epoch 28/30\n",
            "391/391 [==============================] - 1s 3ms/step - loss: 0.1094 - accuracy: 0.9822 - val_loss: 0.1340 - val_accuracy: 0.9762\n",
            "Epoch 29/30\n",
            "391/391 [==============================] - 1s 3ms/step - loss: 0.1086 - accuracy: 0.9821 - val_loss: 0.1340 - val_accuracy: 0.9775\n",
            "Epoch 30/30\n",
            "391/391 [==============================] - 1s 3ms/step - loss: 0.1079 - accuracy: 0.9825 - val_loss: 0.1338 - val_accuracy: 0.9755\n"
          ]
        }
      ]
    },
    {
      "cell_type": "code",
      "source": [
        "pinta_perdida_entrenamiento_validacion(historia2)"
      ],
      "metadata": {
        "id": "aXXzm8tpyj6X",
        "outputId": "1a4d81b4-f167-40b1-d39e-cdfb2c9ca960",
        "colab": {
          "base_uri": "https://localhost:8080/",
          "height": 295
        }
      },
      "execution_count": 23,
      "outputs": [
        {
          "output_type": "display_data",
          "data": {
            "text/plain": [
              "<Figure size 432x288 with 1 Axes>"
            ],
            "image/png": "[encoded data removed]"
          },
          "metadata": {
            "needs_background": "light"
          }
        }
      ]
    },
    {
      "cell_type": "code",
      "source": [
        "pinta_precision_entrenamiento_validacion(historia2)"
      ],
      "metadata": {
        "id": "CLTsg5LTypH9",
        "outputId": "aac6983a-1bc5-40c9-bffc-d1e3b7f9f401",
        "colab": {
          "base_uri": "https://localhost:8080/",
          "height": 295
        }
      },
      "execution_count": 24,
      "outputs": [
        {
          "output_type": "display_data",
          "data": {
            "text/plain": [
              "<Figure size 432x288 with 1 Axes>"
            ],
            "image/png": "[encoded data removed]"
          },
          "metadata": {
            "needs_background": "light"
          }
        }
      ]
    },
    {
      "cell_type": "markdown",
      "source": [
        "### Caso 3: Con regularizador l1_l2"
      ],
      "metadata": {
        "id": "692oWz8oB82n"
      }
    },
    {
      "cell_type": "code",
      "source": [
        "network3 = crea_modelo(3)"
      ],
      "metadata": {
        "id": "5fdxkjoKzFcu",
        "outputId": "2b933e36-c8f6-434d-d49c-57b72d9f27e0",
        "colab": {
          "base_uri": "https://localhost:8080/"
        }
      },
      "execution_count": 25,
      "outputs": [
        {
          "output_type": "stream",
          "name": "stdout",
          "text": [
            "Model: \"sequential_3\"\n",
            "_________________________________________________________________\n",
            " Layer (type)                Output Shape              Param #   \n",
            "=================================================================\n",
            " dense_6 (Dense)             (None, 512)               401920    \n",
            "                                                                 \n",
            " dense_7 (Dense)             (None, 10)                5130      \n",
            "                                                                 \n",
            "=================================================================\n",
            "Total params: 407,050\n",
            "Trainable params: 407,050\n",
            "Non-trainable params: 0\n",
            "_________________________________________________________________\n",
            "None\n"
          ]
        }
      ]
    },
    {
      "cell_type": "code",
      "source": [
        "network3 = compila_modelo(network3)"
      ],
      "metadata": {
        "id": "VJzs9A2yzPhx"
      },
      "execution_count": 26,
      "outputs": []
    },
    {
      "cell_type": "code",
      "source": [
        "historia3 = entrena_modelo(network3)"
      ],
      "metadata": {
        "id": "1JCUbcCQzY6E",
        "outputId": "08df3201-fef6-421a-e707-a1605fa2331d",
        "colab": {
          "base_uri": "https://localhost:8080/"
        }
      },
      "execution_count": 27,
      "outputs": [
        {
          "output_type": "stream",
          "name": "stdout",
          "text": [
            "Epoch 1/30\n",
            "391/391 [==============================] - 2s 4ms/step - loss: 2.1689 - accuracy: 0.8403 - val_loss: 1.0521 - val_accuracy: 0.8798\n",
            "Epoch 2/30\n",
            "391/391 [==============================] - 1s 3ms/step - loss: 0.9895 - accuracy: 0.8772 - val_loss: 0.8559 - val_accuracy: 0.9067\n",
            "Epoch 3/30\n",
            "391/391 [==============================] - 1s 3ms/step - loss: 0.8703 - accuracy: 0.8959 - val_loss: 0.7481 - val_accuracy: 0.9316\n",
            "Epoch 4/30\n",
            "391/391 [==============================] - 1s 3ms/step - loss: 0.7903 - accuracy: 0.9106 - val_loss: 0.7596 - val_accuracy: 0.9190\n",
            "Epoch 5/30\n",
            "391/391 [==============================] - 1s 3ms/step - loss: 0.7389 - accuracy: 0.9195 - val_loss: 0.7696 - val_accuracy: 0.9123\n",
            "Epoch 6/30\n",
            "391/391 [==============================] - 1s 3ms/step - loss: 0.6983 - accuracy: 0.9270 - val_loss: 0.7088 - val_accuracy: 0.9278\n",
            "Epoch 7/30\n",
            "391/391 [==============================] - 1s 3ms/step - loss: 0.6682 - accuracy: 0.9321 - val_loss: 0.6208 - val_accuracy: 0.9445\n",
            "Epoch 8/30\n",
            "391/391 [==============================] - 1s 3ms/step - loss: 0.6474 - accuracy: 0.9360 - val_loss: 0.6305 - val_accuracy: 0.9385\n",
            "Epoch 9/30\n",
            "391/391 [==============================] - 1s 4ms/step - loss: 0.6288 - accuracy: 0.9380 - val_loss: 0.5923 - val_accuracy: 0.9517\n",
            "Epoch 10/30\n",
            "391/391 [==============================] - 1s 3ms/step - loss: 0.6123 - accuracy: 0.9409 - val_loss: 0.5872 - val_accuracy: 0.9506\n",
            "Epoch 11/30\n",
            "391/391 [==============================] - 1s 3ms/step - loss: 0.5991 - accuracy: 0.9434 - val_loss: 0.5702 - val_accuracy: 0.9529\n",
            "Epoch 12/30\n",
            "391/391 [==============================] - 1s 4ms/step - loss: 0.5884 - accuracy: 0.9450 - val_loss: 0.5665 - val_accuracy: 0.9521\n",
            "Epoch 13/30\n",
            "391/391 [==============================] - 1s 3ms/step - loss: 0.5777 - accuracy: 0.9479 - val_loss: 0.5642 - val_accuracy: 0.9490\n",
            "Epoch 14/30\n",
            "391/391 [==============================] - 1s 4ms/step - loss: 0.5681 - accuracy: 0.9487 - val_loss: 0.5643 - val_accuracy: 0.9505\n",
            "Epoch 15/30\n",
            "391/391 [==============================] - 1s 4ms/step - loss: 0.5610 - accuracy: 0.9490 - val_loss: 0.5791 - val_accuracy: 0.9451\n",
            "Epoch 16/30\n",
            "391/391 [==============================] - 1s 4ms/step - loss: 0.5533 - accuracy: 0.9508 - val_loss: 0.5168 - val_accuracy: 0.9624\n",
            "Epoch 17/30\n",
            "391/391 [==============================] - 2s 4ms/step - loss: 0.5473 - accuracy: 0.9514 - val_loss: 0.5748 - val_accuracy: 0.9404\n",
            "Epoch 18/30\n",
            "391/391 [==============================] - 1s 3ms/step - loss: 0.5407 - accuracy: 0.9532 - val_loss: 0.5196 - val_accuracy: 0.9616\n",
            "Epoch 19/30\n",
            "391/391 [==============================] - 1s 3ms/step - loss: 0.5366 - accuracy: 0.9533 - val_loss: 0.5246 - val_accuracy: 0.9578\n",
            "Epoch 20/30\n",
            "391/391 [==============================] - 1s 4ms/step - loss: 0.5309 - accuracy: 0.9535 - val_loss: 0.5414 - val_accuracy: 0.9502\n",
            "Epoch 21/30\n",
            "391/391 [==============================] - 1s 3ms/step - loss: 0.5275 - accuracy: 0.9545 - val_loss: 0.4973 - val_accuracy: 0.9655\n",
            "Epoch 22/30\n",
            "391/391 [==============================] - 1s 4ms/step - loss: 0.5236 - accuracy: 0.9545 - val_loss: 0.5104 - val_accuracy: 0.9609\n",
            "Epoch 23/30\n",
            "391/391 [==============================] - 1s 3ms/step - loss: 0.5197 - accuracy: 0.9546 - val_loss: 0.5000 - val_accuracy: 0.9625\n",
            "Epoch 24/30\n",
            "391/391 [==============================] - 2s 4ms/step - loss: 0.5158 - accuracy: 0.9559 - val_loss: 0.5015 - val_accuracy: 0.9624\n",
            "Epoch 25/30\n",
            "391/391 [==============================] - 2s 4ms/step - loss: 0.5140 - accuracy: 0.9558 - val_loss: 0.5035 - val_accuracy: 0.9630\n",
            "Epoch 26/30\n",
            "391/391 [==============================] - 2s 4ms/step - loss: 0.5098 - accuracy: 0.9567 - val_loss: 0.5061 - val_accuracy: 0.9584\n",
            "Epoch 27/30\n",
            "391/391 [==============================] - 1s 3ms/step - loss: 0.5060 - accuracy: 0.9576 - val_loss: 0.4898 - val_accuracy: 0.9620\n",
            "Epoch 28/30\n",
            "391/391 [==============================] - 1s 4ms/step - loss: 0.5054 - accuracy: 0.9563 - val_loss: 0.5039 - val_accuracy: 0.9575\n",
            "Epoch 29/30\n",
            "391/391 [==============================] - 1s 4ms/step - loss: 0.5035 - accuracy: 0.9569 - val_loss: 0.4754 - val_accuracy: 0.9676\n",
            "Epoch 30/30\n",
            "391/391 [==============================] - 1s 3ms/step - loss: 0.4999 - accuracy: 0.9576 - val_loss: 0.5276 - val_accuracy: 0.9516\n"
          ]
        }
      ]
    },
    {
      "cell_type": "code",
      "source": [
        "pinta_perdida_entrenamiento_validacion(historia3)"
      ],
      "metadata": {
        "id": "I8XzPVtyze8y",
        "outputId": "3a91f7af-171c-4695-ef06-784fea923c04",
        "colab": {
          "base_uri": "https://localhost:8080/",
          "height": 295
        }
      },
      "execution_count": 28,
      "outputs": [
        {
          "output_type": "display_data",
          "data": {
            "text/plain": [
              "<Figure size 432x288 with 1 Axes>"
            ],
            "image/png": "[encoded data removed]"
          },
          "metadata": {
            "needs_background": "light"
          }
        }
      ]
    },
    {
      "cell_type": "code",
      "source": [
        "pinta_precision_entrenamiento_validacion(historia3)"
      ],
      "metadata": {
        "id": "nKk7AmM8zi3A",
        "outputId": "1ec882f4-8b39-4568-f9df-b5c09d414e6c",
        "colab": {
          "base_uri": "https://localhost:8080/",
          "height": 295
        }
      },
      "execution_count": 29,
      "outputs": [
        {
          "output_type": "display_data",
          "data": {
            "text/plain": [
              "<Figure size 432x288 with 1 Axes>"
            ],
            "image/png": "[encoded data removed]"
          },
          "metadata": {
            "needs_background": "light"
          }
        }
      ]
    },
    {
      "cell_type": "markdown",
      "source": [
        "### Caso 4: Con Droput"
      ],
      "metadata": {
        "id": "OPVcbgcXCFRL"
      }
    },
    {
      "cell_type": "code",
      "source": [
        "network4 = crea_modelo(4)"
      ],
      "metadata": {
        "id": "5MVbUNX11Pgr",
        "outputId": "36b4f2d8-dba2-4125-e586-794559968b26",
        "colab": {
          "base_uri": "https://localhost:8080/"
        }
      },
      "execution_count": 30,
      "outputs": [
        {
          "output_type": "stream",
          "name": "stdout",
          "text": [
            "Model: \"sequential_4\"\n",
            "_________________________________________________________________\n",
            " Layer (type)                Output Shape              Param #   \n",
            "=================================================================\n",
            " dense_8 (Dense)             (None, 512)               401920    \n",
            "                                                                 \n",
            " dropout (Dropout)           (None, 512)               0         \n",
            "                                                                 \n",
            " dense_9 (Dense)             (None, 10)                5130      \n",
            "                                                                 \n",
            "=================================================================\n",
            "Total params: 407,050\n",
            "Trainable params: 407,050\n",
            "Non-trainable params: 0\n",
            "_________________________________________________________________\n",
            "None\n"
          ]
        }
      ]
    },
    {
      "cell_type": "code",
      "source": [
        "network4 = compila_modelo(network4)"
      ],
      "metadata": {
        "id": "pT-13IKI1UpW"
      },
      "execution_count": 31,
      "outputs": []
    },
    {
      "cell_type": "code",
      "source": [
        "historia4 = entrena_modelo(network4)"
      ],
      "metadata": {
        "id": "kNWidx1S1aCH",
        "outputId": "b466d880-6cab-469e-ebcc-85bd69eda200",
        "colab": {
          "base_uri": "https://localhost:8080/"
        }
      },
      "execution_count": 32,
      "outputs": [
        {
          "output_type": "stream",
          "name": "stdout",
          "text": [
            "Epoch 1/30\n",
            "391/391 [==============================] - 2s 4ms/step - loss: 0.3439 - accuracy: 0.8984 - val_loss: 0.1591 - val_accuracy: 0.9563\n",
            "Epoch 2/30\n",
            "391/391 [==============================] - 2s 4ms/step - loss: 0.1654 - accuracy: 0.9504 - val_loss: 0.1129 - val_accuracy: 0.9676\n",
            "Epoch 3/30\n",
            "391/391 [==============================] - 1s 3ms/step - loss: 0.1267 - accuracy: 0.9621 - val_loss: 0.0980 - val_accuracy: 0.9717\n",
            "Epoch 4/30\n",
            "391/391 [==============================] - 1s 4ms/step - loss: 0.1058 - accuracy: 0.9684 - val_loss: 0.0857 - val_accuracy: 0.9750\n",
            "Epoch 5/30\n",
            "391/391 [==============================] - 1s 4ms/step - loss: 0.0904 - accuracy: 0.9725 - val_loss: 0.0821 - val_accuracy: 0.9763\n",
            "Epoch 6/30\n",
            "391/391 [==============================] - 1s 4ms/step - loss: 0.0804 - accuracy: 0.9757 - val_loss: 0.0818 - val_accuracy: 0.9770\n",
            "Epoch 7/30\n",
            "391/391 [==============================] - 1s 3ms/step - loss: 0.0725 - accuracy: 0.9784 - val_loss: 0.0782 - val_accuracy: 0.9783\n",
            "Epoch 8/30\n",
            "391/391 [==============================] - 1s 3ms/step - loss: 0.0671 - accuracy: 0.9801 - val_loss: 0.0798 - val_accuracy: 0.9778\n",
            "Epoch 9/30\n",
            "391/391 [==============================] - 1s 4ms/step - loss: 0.0642 - accuracy: 0.9813 - val_loss: 0.0785 - val_accuracy: 0.9798\n",
            "Epoch 10/30\n",
            "391/391 [==============================] - 1s 3ms/step - loss: 0.0571 - accuracy: 0.9822 - val_loss: 0.0795 - val_accuracy: 0.9783\n",
            "Epoch 11/30\n",
            "391/391 [==============================] - 1s 4ms/step - loss: 0.0539 - accuracy: 0.9835 - val_loss: 0.0804 - val_accuracy: 0.9799\n",
            "Epoch 12/30\n",
            "391/391 [==============================] - 1s 3ms/step - loss: 0.0526 - accuracy: 0.9839 - val_loss: 0.0788 - val_accuracy: 0.9808\n",
            "Epoch 13/30\n",
            "391/391 [==============================] - 1s 3ms/step - loss: 0.0482 - accuracy: 0.9855 - val_loss: 0.0797 - val_accuracy: 0.9815\n",
            "Epoch 14/30\n",
            "391/391 [==============================] - 1s 3ms/step - loss: 0.0455 - accuracy: 0.9853 - val_loss: 0.0767 - val_accuracy: 0.9815\n",
            "Epoch 15/30\n",
            "391/391 [==============================] - 1s 4ms/step - loss: 0.0424 - accuracy: 0.9872 - val_loss: 0.0820 - val_accuracy: 0.9815\n",
            "Epoch 16/30\n",
            "391/391 [==============================] - 1s 4ms/step - loss: 0.0416 - accuracy: 0.9872 - val_loss: 0.0825 - val_accuracy: 0.9814\n",
            "Epoch 17/30\n",
            "391/391 [==============================] - 1s 3ms/step - loss: 0.0397 - accuracy: 0.9880 - val_loss: 0.0806 - val_accuracy: 0.9822\n",
            "Epoch 18/30\n",
            "391/391 [==============================] - 1s 3ms/step - loss: 0.0370 - accuracy: 0.9884 - val_loss: 0.0820 - val_accuracy: 0.9809\n",
            "Epoch 19/30\n",
            "391/391 [==============================] - 2s 4ms/step - loss: 0.0361 - accuracy: 0.9887 - val_loss: 0.0864 - val_accuracy: 0.9808\n",
            "Epoch 20/30\n",
            "391/391 [==============================] - 2s 4ms/step - loss: 0.0345 - accuracy: 0.9891 - val_loss: 0.0853 - val_accuracy: 0.9801\n",
            "Epoch 21/30\n",
            "391/391 [==============================] - 1s 3ms/step - loss: 0.0361 - accuracy: 0.9895 - val_loss: 0.0846 - val_accuracy: 0.9816\n",
            "Epoch 22/30\n",
            "391/391 [==============================] - 1s 3ms/step - loss: 0.0334 - accuracy: 0.9895 - val_loss: 0.0869 - val_accuracy: 0.9826\n",
            "Epoch 23/30\n",
            "391/391 [==============================] - 1s 4ms/step - loss: 0.0312 - accuracy: 0.9905 - val_loss: 0.0898 - val_accuracy: 0.9827\n",
            "Epoch 24/30\n",
            "391/391 [==============================] - 1s 3ms/step - loss: 0.0308 - accuracy: 0.9908 - val_loss: 0.0857 - val_accuracy: 0.9830\n",
            "Epoch 25/30\n",
            "391/391 [==============================] - 1s 4ms/step - loss: 0.0302 - accuracy: 0.9910 - val_loss: 0.0884 - val_accuracy: 0.9823\n",
            "Epoch 26/30\n",
            "391/391 [==============================] - 1s 4ms/step - loss: 0.0303 - accuracy: 0.9907 - val_loss: 0.0868 - val_accuracy: 0.9834\n",
            "Epoch 27/30\n",
            "391/391 [==============================] - 1s 4ms/step - loss: 0.0276 - accuracy: 0.9912 - val_loss: 0.0867 - val_accuracy: 0.9837\n",
            "Epoch 28/30\n",
            "391/391 [==============================] - 1s 4ms/step - loss: 0.0268 - accuracy: 0.9917 - val_loss: 0.0928 - val_accuracy: 0.9837\n",
            "Epoch 29/30\n",
            "391/391 [==============================] - 1s 3ms/step - loss: 0.0286 - accuracy: 0.9914 - val_loss: 0.0951 - val_accuracy: 0.9830\n",
            "Epoch 30/30\n",
            "391/391 [==============================] - 1s 4ms/step - loss: 0.0249 - accuracy: 0.9926 - val_loss: 0.0956 - val_accuracy: 0.9828\n"
          ]
        }
      ]
    },
    {
      "cell_type": "code",
      "source": [
        "pinta_perdida_entrenamiento_validacion(historia4)"
      ],
      "metadata": {
        "id": "R9pI34Yr1gBO",
        "outputId": "5fbd170d-303d-43f3-b26a-d142f8dbd8c8",
        "colab": {
          "base_uri": "https://localhost:8080/",
          "height": 295
        }
      },
      "execution_count": 33,
      "outputs": [
        {
          "output_type": "display_data",
          "data": {
            "text/plain": [
              "<Figure size 432x288 with 1 Axes>"
            ],
            "image/png": "[encoded data removed]"
          },
          "metadata": {
            "needs_background": "light"
          }
        }
      ]
    },
    {
      "cell_type": "code",
      "source": [
        "pinta_precision_entrenamiento_validacion(historia4)"
      ],
      "metadata": {
        "id": "EwEIEOKx1lQr",
        "outputId": "6053a264-2127-48c9-e5e7-683662dff7cc",
        "colab": {
          "base_uri": "https://localhost:8080/",
          "height": 295
        }
      },
      "execution_count": 34,
      "outputs": [
        {
          "output_type": "display_data",
          "data": {
            "text/plain": [
              "<Figure size 432x288 with 1 Axes>"
            ],
            "image/png": "[encoded data removed]"
          },
          "metadata": {
            "needs_background": "light"
          }
        }
      ]
    },
    {
      "cell_type": "markdown",
      "source": [
        "### Caso 5: Error de código de regularizador"
      ],
      "metadata": {
        "id": "e6rlKx2nCOgU"
      }
    },
    {
      "cell_type": "code",
      "source": [
        "network5 = crea_modelo(5)"
      ],
      "metadata": {
        "id": "SqGDm8VM1rwR",
        "outputId": "ee3872fe-217e-45c2-a42f-db5e28c68e5a",
        "colab": {
          "base_uri": "https://localhost:8080/"
        }
      },
      "execution_count": 35,
      "outputs": [
        {
          "output_type": "stream",
          "name": "stdout",
          "text": [
            "Regularizador no valido\n"
          ]
        }
      ]
    },
    {
      "cell_type": "markdown",
      "source": [
        "### CONCLUSIONES"
      ],
      "metadata": {
        "id": "IklUu29cCcVe"
      }
    },
    {
      "cell_type": "markdown",
      "source": [
        "Todos los modelos consiguen una precisión superior al 96% en el conjunto de validación. SIn embargo, se observan importantes diferencias entre los valores de pérdida y la estabilidad de los modelos.\n",
        "\n",
        "En primer lugar, los `modelos 1 y 3` (regularizador L1 y L1 + L2) generan errores considerablemente más altos con respecto a los otros modelos. Si calculamos la razón media entre los errores (tomando como referencia los modelos 3 y 4) obtenemos 0.5 / 0.09 * 100 ~ 550% de error más en los modelos 1 y 3 que en 0, 2 y 4. Por este motivo no se recomienda utilizar los modelos 1 y 3, ya que pese a generar predicciones correctas, los errores que producen son demasiado grandes en comparación con los otros modelos. \n",
        "\n",
        "Por otra parte, otro punto clave a tener en cuenta es la capacidad de generalización del modelo y su estabilidad.\n",
        "\n",
        "- En el `modelo 0` (sin regularizador) se observa claramente cómo **a partir de la época 4 se produce sobreentrenamiento de la red**, pues las curvas de aprendizaje del conjunto de entrenamiento y de validación divergen a partir de este punto: el modelo reduce su error en el conjunto de entrenamiento pero lo aumenta en el de validación, mostrando así pérdida en la capacidad de generalización.\n",
        "\n",
        "- El `modelo 2` mejora la capacidad de generalización del modelo aplicando la pérdida L2. SIn embargo, **en la curva de aprendizaje se aprecian picos que reflejan inestabilidad**. Esto no es una buena señal, pues significa que existen casos en los que nuestro modelo no funcionará correctamente y su rendimiento será más bajo. Por tanto, el valor de precisión del modelo es una falsa seguridad que en la práctica puede no verse reproducida.\n",
        "\n",
        "- Por último, el `modelo 4` **es el que mejor resultados ha dado**, obteniendo la mayor precisión y el menor error en el conjunto de validación, lo que demuestra una buena capacidad de generalización. Además, a diferencia del modelo 2, el entrenamiento es estable. En este caso podemos inferir que el sobreentrenamiento se produce a partir de la época 7."
      ],
      "metadata": {
        "id": "cB_OYjjaChzN"
      }
    }
  ]
}